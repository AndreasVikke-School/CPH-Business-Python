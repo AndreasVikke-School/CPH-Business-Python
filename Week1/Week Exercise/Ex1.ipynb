{
 "cells": [
  {
   "cell_type": "markdown",
   "metadata": {},
   "source": [
    "# Ex 1"
   ]
  },
  {
   "cell_type": "markdown",
   "metadata": {},
   "source": [
    "## 1.a"
   ]
  },
  {
   "cell_type": "code",
   "execution_count": 18,
   "metadata": {},
   "outputs": [
    {
     "data": {
      "text/plain": "['Hans', 'Hannah']"
     },
     "execution_count": 18,
     "metadata": {},
     "output_type": "execute_result"
    }
   ],
   "source": [
    "names = ['Hans', 'Bo', 'Jens', 'Hannah']\n",
    "namesWithH = [name for name in names if name.startswith('H')]\n",
    "\n",
    "namesWithH"
   ]
  },
  {
   "cell_type": "markdown",
   "metadata": {},
   "source": [
    "## 1.b"
   ]
  },
  {
   "cell_type": "code",
   "execution_count": 71,
   "metadata": {},
   "outputs": [
    {
     "data": {
      "text/plain": "[1,\n 8,\n 27,\n 64,\n 125,\n 216,\n 343,\n 512,\n 729,\n 1000,\n 1331,\n 1728,\n 2197,\n 2744,\n 3375,\n 4096,\n 4913,\n 5832,\n 6859,\n 8000,\n 9261,\n 10648,\n 12167,\n 13824,\n 15625,\n 17576,\n 19683,\n 21952,\n 24389,\n 27000,\n 29791,\n 32768,\n 35937,\n 39304,\n 42875,\n 46656,\n 50653,\n 54872,\n 59319,\n 64000,\n 68921,\n 74088,\n 79507,\n 85184,\n 91125,\n 97336,\n 103823,\n 110592,\n 117649,\n 125000,\n 132651,\n 140608,\n 148877,\n 157464,\n 166375,\n 175616,\n 185193,\n 195112,\n 205379,\n 216000,\n 226981,\n 238328,\n 250047,\n 262144,\n 274625,\n 287496,\n 300763,\n 314432,\n 328509,\n 343000,\n 357911,\n 373248,\n 389017,\n 405224,\n 421875,\n 438976,\n 456533,\n 474552,\n 493039,\n 512000,\n 531441,\n 551368,\n 571787,\n 592704,\n 614125,\n 636056,\n 658503,\n 681472,\n 704969,\n 729000,\n 753571,\n 778688,\n 804357,\n 830584,\n 857375,\n 884736,\n 912673,\n 941192,\n 970299,\n 1000000]"
     },
     "execution_count": 71,
     "metadata": {},
     "output_type": "execute_result"
    }
   ],
   "source": [
    "[n**3 for n in range(1,101)]"
   ]
  },
  {
   "cell_type": "markdown",
   "metadata": {},
   "source": [
    "## 1.c"
   ]
  },
  {
   "cell_type": "code",
   "execution_count": 70,
   "metadata": {},
   "outputs": [
    {
     "data": {
      "text/plain": "[(4, 'Hans'), (2, 'Bo'), (4, 'Jens'), (6, 'Hannah')]"
     },
     "execution_count": 70,
     "metadata": {},
     "output_type": "execute_result"
    }
   ],
   "source": [
    "names = ['Hans', 'Bo', 'Jens', 'Hannah']\n",
    "namesLength = []\n",
    "\n",
    "for name in names:\n",
    "    namesLength.append((len(name), name))\n",
    "    \n",
    "namesLength"
   ]
  },
  {
   "cell_type": "markdown",
   "metadata": {},
   "source": [
    "## 1.d"
   ]
  },
  {
   "cell_type": "code",
   "execution_count": 69,
   "metadata": {},
   "outputs": [
    {
     "name": "stdout",
     "output_type": "stream",
     "text": "1\n2\n"
    }
   ],
   "source": [
    "str = 'Hello World 1, and 2'\n",
    "\n",
    "for c in str:\n",
    "    if(c.isnumeric()):\n",
    "        print(c)"
   ]
  },
  {
   "cell_type": "markdown",
   "metadata": {},
   "source": [
    "## 1.e"
   ]
  },
  {
   "cell_type": "code",
   "execution_count": 66,
   "metadata": {},
   "outputs": [
    {
     "data": {
      "text/plain": "{(1, 1),\n (2, 1),\n (2, 2),\n (3, 1),\n (3, 2),\n (3, 3),\n (4, 1),\n (4, 2),\n (4, 3),\n (4, 4),\n (5, 1),\n (5, 2),\n (5, 3),\n (5, 4),\n (5, 5),\n (6, 1),\n (6, 2),\n (6, 3),\n (6, 4),\n (6, 5),\n (6, 6)}"
     },
     "execution_count": 66,
     "metadata": {},
     "output_type": "execute_result"
    }
   ],
   "source": [
    "combinations = set([(x if x > y else y, y if x > y else x) for x in range(1,7) for y in range(1,7)])\n",
    "combinations"
   ]
  },
  {
   "cell_type": "markdown",
   "metadata": {},
   "source": [
    "# Ex 2"
   ]
  },
  {
   "cell_type": "markdown",
   "metadata": {},
   "source": [
    "## 2.a"
   ]
  },
  {
   "cell_type": "code",
   "execution_count": 4,
   "metadata": {},
   "outputs": [
    {
     "data": {
      "text/plain": "{'Hans': 4, 'Bo': 2, 'Jens': 4, 'Hannah': 6}"
     },
     "execution_count": 4,
     "metadata": {},
     "output_type": "execute_result"
    }
   ],
   "source": [
    "names = ['Hans', 'Bo', 'Jens', 'Hannah']\n",
    "{name: len(name) for name in names}"
   ]
  },
  {
   "cell_type": "markdown",
   "metadata": {},
   "source": [
    "## 2.b"
   ]
  },
  {
   "cell_type": "code",
   "execution_count": 6,
   "metadata": {},
   "outputs": [
    {
     "data": {
      "text/plain": "{1: 1.0,\n 2: 1.4142135623730951,\n 3: 1.7320508075688772,\n 4: 2.0,\n 5: 2.23606797749979,\n 6: 2.449489742783178,\n 7: 2.6457513110645907,\n 8: 2.8284271247461903,\n 9: 3.0,\n 10: 3.1622776601683795,\n 11: 3.3166247903554,\n 12: 3.4641016151377544,\n 13: 3.605551275463989,\n 14: 3.7416573867739413,\n 15: 3.872983346207417,\n 16: 4.0,\n 17: 4.123105625617661,\n 18: 4.242640687119285,\n 19: 4.358898943540674,\n 20: 4.47213595499958,\n 21: 4.58257569495584,\n 22: 4.69041575982343,\n 23: 4.795831523312719,\n 24: 4.898979485566356,\n 25: 5.0,\n 26: 5.0990195135927845,\n 27: 5.196152422706632,\n 28: 5.291502622129181,\n 29: 5.385164807134504,\n 30: 5.477225575051661,\n 31: 5.5677643628300215,\n 32: 5.656854249492381,\n 33: 5.744562646538029,\n 34: 5.830951894845301,\n 35: 5.916079783099616,\n 36: 6.0,\n 37: 6.082762530298219,\n 38: 6.164414002968976,\n 39: 6.244997998398398,\n 40: 6.324555320336759,\n 41: 6.4031242374328485,\n 42: 6.48074069840786,\n 43: 6.557438524302,\n 44: 6.6332495807108,\n 45: 6.708203932499369,\n 46: 6.782329983125268,\n 47: 6.855654600401044,\n 48: 6.928203230275509,\n 49: 7.0,\n 50: 7.0710678118654755}"
     },
     "execution_count": 6,
     "metadata": {},
     "output_type": "execute_result"
    }
   ],
   "source": [
    "import math\n",
    "numbers = list(range(1,51))\n",
    "{number: math.sqrt(number) for number in numbers}"
   ]
  },
  {
   "cell_type": "markdown",
   "metadata": {},
   "source": [
    "# Ex 3"
   ]
  },
  {
   "cell_type": "code",
   "execution_count": 75,
   "metadata": {},
   "outputs": [
    {
     "data": {
      "text/plain": "{(6, 6): 2.7777777777777777,\n (2, 1): 5.555555555555555,\n (6, 2): 5.555555555555555,\n (5, 1): 5.555555555555555,\n (3, 3): 2.7777777777777777,\n (5, 5): 2.7777777777777777,\n (4, 4): 2.7777777777777777,\n (6, 3): 5.555555555555555,\n (2, 2): 2.7777777777777777,\n (4, 1): 5.555555555555555,\n (1, 1): 2.7777777777777777,\n (6, 4): 5.555555555555555,\n (3, 2): 5.555555555555555,\n (5, 4): 5.555555555555555,\n (4, 2): 5.555555555555555,\n (6, 5): 5.555555555555555,\n (5, 3): 5.555555555555555,\n (6, 1): 5.555555555555555,\n (3, 1): 5.555555555555555,\n (4, 3): 5.555555555555555,\n (5, 2): 5.555555555555555}"
     },
     "execution_count": 75,
     "metadata": {},
     "output_type": "execute_result"
    }
   ],
   "source": [
    "combinations = set([(x if x > y else y, y if x > y else x) for x in range(1,7) for y in range(1,7)])\n",
    "comb = {}\n",
    "\n",
    "for x,y in combinations:\n",
    "    if x == y:\n",
    "        comb[(x,y)] = 1/36 * 100\n",
    "    else:\n",
    "        comb[(x,y)] = 2/36 * 100\n",
    "\n",
    "comb"
   ]
  }
 ],
 "metadata": {
  "kernelspec": {
   "display_name": "Python 3.7.4 64-bit ('base': conda)",
   "language": "python",
   "name": "python37464bitbasecondaf247f88ea4b24287860678040d31b5ad"
  },
  "language_info": {
   "codemirror_mode": {
    "name": "ipython",
    "version": 3
   },
   "file_extension": ".py",
   "mimetype": "text/x-python",
   "name": "python",
   "nbconvert_exporter": "python",
   "pygments_lexer": "ipython3",
   "version": "3.7.4-final"
  }
 },
 "nbformat": 4,
 "nbformat_minor": 2
}