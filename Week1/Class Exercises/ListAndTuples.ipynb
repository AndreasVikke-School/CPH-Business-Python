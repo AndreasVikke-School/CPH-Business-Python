{
 "nbformat": 4,
 "nbformat_minor": 2,
 "metadata": {
  "language_info": {
   "name": "python",
   "codemirror_mode": {
    "name": "ipython",
    "version": 3
   }
  },
  "orig_nbformat": 2,
  "file_extension": ".py",
  "mimetype": "text/x-python",
  "name": "python",
  "npconvert_exporter": "python",
  "pygments_lexer": "ipython3",
  "version": 3
 },
 "cells": [
  {
   "cell_type": "markdown",
   "execution_count": 18,
   "metadata": {},
   "outputs": [],
   "source": [
    "# Python build in data structures"
   ]
  },
  {
   "cell_type": "markdown",
   "execution_count": null,
   "metadata": {},
   "outputs": [],
   "source": [
    "## 1.\n",
    "Use the range() function to make a list of the odd numbers from 1 to 20. Hint in ipython and this notebooks you can see a functions help text by executing for example range?"
   ]
  },
  {
   "cell_type": "code",
   "execution_count": 7,
   "metadata": {},
   "outputs": [
    {
     "name": "stdout",
     "output_type": "stream",
     "text": "[1, 3, 5, 7, 9, 11, 13, 15, 17, 19]\n"
    }
   ],
   "source": [
    "print(list(range(1, 21, 2)))"
   ]
  },
  {
   "cell_type": "markdown",
   "execution_count": null,
   "metadata": {},
   "outputs": [],
   "source": [
    "## 2.\n",
    "Create a list with the even number values from two to one million. Use min() and max() to make sure your list actually starts at two and ends at one million. Also, use the sum() function to compute the sum of all values. Time the execution time using %timeit."
   ]
  },
  {
   "cell_type": "code",
   "execution_count": 17,
   "metadata": {},
   "outputs": [
    {
     "name": "stdout",
     "output_type": "stream",
     "text": "2\n1000000\n250000500000\n2.94 ms ± 21.3 µs per loop (mean ± std. dev. of 7 runs, 100 loops each)\n13.9 ms ± 123 µs per loop (mean ± std. dev. of 7 runs, 100 loops each)\n"
    }
   ],
   "source": [
    "evenumbers = list(range(2,1000001, 2))\n",
    "print(min(evenumbers))\n",
    "print(max(evenumbers))\n",
    "print(sum(evenumbers))\n",
    "%timeit sum(evenumbers)\n",
    "%timeit list(range(2,1000001, 2))"
   ]
  },
  {
   "cell_type": "markdown",
   "execution_count": 19,
   "metadata": {},
   "outputs": [],
   "source": [
    "## 3.\n",
    "Create a list of the multiples of 3 - going from 3 to 300. HINT: USE A LIST COMPREHENSION"
   ]
  },
  {
   "cell_type": "code",
   "execution_count": 27,
   "metadata": {},
   "outputs": [
    {
     "name": "stdout",
     "output_type": "stream",
     "text": "[9, 12, 15, 18, 21, 24, 27, 30, 33, 36, 39, 42, 45, 48, 51, 54, 57, 60, 63, 66, 69, 72, 75, 78, 81, 84, 87, 90, 93, 96, 99, 102, 105, 108, 111, 114, 117, 120, 123, 126, 129, 132, 135, 138, 141, 144, 147, 150, 153, 156, 159, 162, 165, 168, 171, 174, 177, 180, 183, 186, 189, 192, 195, 198, 201, 204, 207, 210, 213, 216, 219, 222, 225, 228, 231, 234, 237, 240, 243, 246, 249, 252, 255, 258, 261, 264, 267, 270, 273, 276, 279, 282, 285, 288, 291, 294, 297, 300, 303, 306, 309, 312, 315, 318, 321, 324, 327, 330, 333, 336, 339, 342, 345, 348, 351, 354, 357, 360, 363, 366, 369, 372, 375, 378, 381, 384, 387, 390, 393, 396, 399, 402, 405, 408, 411, 414, 417, 420, 423, 426, 429, 432, 435, 438, 441, 444, 447, 450, 453, 456, 459, 462, 465, 468, 471, 474, 477, 480, 483, 486, 489, 492, 495, 498, 501, 504, 507, 510, 513, 516, 519, 522, 525, 528, 531, 534, 537, 540, 543, 546, 549, 552, 555, 558, 561, 564, 567, 570, 573, 576, 579, 582, 585, 588, 591, 594, 597, 600, 603, 606, 609, 612, 615, 618, 621, 624, 627, 630, 633, 636, 639, 642, 645, 648, 651, 654, 657, 660, 663, 666, 669, 672, 675, 678, 681, 684, 687, 690, 693, 696, 699, 702, 705, 708, 711, 714, 717, 720, 723, 726, 729, 732, 735, 738, 741, 744, 747, 750, 753, 756, 759, 762, 765, 768, 771, 774, 777, 780, 783, 786, 789, 792, 795, 798, 801, 804, 807, 810, 813, 816, 819, 822, 825, 828, 831, 834, 837, 840, 843, 846, 849, 852, 855, 858, 861, 864, 867, 870, 873, 876, 879, 882, 885, 888, 891, 894, 897, 900]\n"
    }
   ],
   "source": [
    "multi = [i*3 for i in range(3,301)]\n",
    "print(multi)"
   ]
  },
  {
   "cell_type": "markdown",
   "execution_count": null,
   "metadata": {},
   "outputs": [],
   "source": [
    "# 4.\n",
    "A number raised to the third power is called a cube. For example, the cube of 2 is written as 2**3 in Python. Create a list of the first 10 cubes (that is, the cube of each integer from 1 through 10)."
   ]
  },
  {
   "cell_type": "code",
   "execution_count": 28,
   "metadata": {},
   "outputs": [
    {
     "name": "stdout",
     "output_type": "stream",
     "text": "[1, 8, 27, 64, 125, 216, 343, 512, 729, 1000]\n"
    }
   ],
   "source": [
    "cubes = [i**3 for i in range(1,11)]\n",
    "print(cubes)"
   ]
  }
 ]
}