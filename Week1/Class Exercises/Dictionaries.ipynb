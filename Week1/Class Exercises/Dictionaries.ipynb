{
 "nbformat": 4,
 "nbformat_minor": 2,
 "metadata": {
  "language_info": {
   "name": "python",
   "codemirror_mode": {
    "name": "ipython",
    "version": 3
   },
   "version": "3.7.4-final"
  },
  "orig_nbformat": 2,
  "file_extension": ".py",
  "mimetype": "text/x-python",
  "name": "python",
  "npconvert_exporter": "python",
  "pygments_lexer": "ipython3",
  "version": 3,
  "kernelspec": {
   "name": "python37464bitbasecondaf247f88ea4b24287860678040d31b5ad",
   "display_name": "Python 3.7.4 64-bit ('base': conda)"
  }
 },
 "cells": [
  {
   "cell_type": "markdown",
   "execution_count": null,
   "metadata": {},
   "outputs": [],
   "source": [
    "# The Dictionary Data Type\n",
    "\n",
    "## Date Decoder.\n",
    "\n",
    "1. A date of the form 8-MAR-85 includes the name of the month, which must be translated to a number.\n",
    "2. Create a dict suitable for decoding month names to numbers.\n",
    "3. Create a function which uses string operations to split the date into 3 items using the \"-\" character.\n",
    "4. Translate the month and return a tuple.\n",
    "5. The function will accept a date in the \"dd-MMM-yy\" format and respond with a tuple of ( y , m , d ).\n",
    "\n"
   ]
  },
  {
   "cell_type": "markdown",
   "execution_count": null,
   "metadata": {},
   "outputs": [],
   "source": [
    "### Month Dict decoder"
   ]
  },
  {
   "cell_type": "code",
   "execution_count": 11,
   "metadata": {},
   "outputs": [],
   "source": [
    "monthDict = {\"JAN\": 1, \"FEB\": 2, \"MAR\": 3, \"APR\": 4, \"MAY\": 5, \"JUN\": 6, \"JUL\": 7, \"AUG\": 8, \"SEP\": 9, \"OCT\": 10, \"NOV\": 11, \"DEC\": 12}"
   ]
  },
  {
   "cell_type": "markdown",
   "execution_count": null,
   "metadata": {},
   "outputs": [],
   "source": [
    "### Translate function"
   ]
  },
  {
   "cell_type": "code",
   "execution_count": 19,
   "metadata": {},
   "outputs": [],
   "source": [
    "def translateDate(date):\n",
    "    dsplit = date.split('-')\n",
    "    return (int(dsplit[0]), int(monthDict[dsplit[1]]), int(dsplit[2]))"
   ]
  },
  {
   "cell_type": "markdown",
   "execution_count": null,
   "metadata": {},
   "outputs": [],
   "source": [
    "### Use Translater"
   ]
  },
  {
   "cell_type": "code",
   "execution_count": 23,
   "metadata": {},
   "outputs": [
    {
     "name": "stdout",
     "output_type": "stream",
     "text": "(8, 3, 85)\n(3, 6, 98)\n(16, 12, 94)\n(4, 2, 12)\n"
    }
   ],
   "source": [
    "print(translateDate(\"8-MAR-85\"))\n",
    "print(translateDate(\"3-JUN-98\"))\n",
    "print(translateDate(\"16-DEC-94\"))\n",
    "print(translateDate(\"4-FEB-12\"))"
   ]
  }
 ]
}