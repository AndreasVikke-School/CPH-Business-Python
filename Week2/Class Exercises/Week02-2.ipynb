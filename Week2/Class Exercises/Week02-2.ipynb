{
 "nbformat": 4,
 "nbformat_minor": 2,
 "metadata": {
  "language_info": {
   "name": "python",
   "codemirror_mode": {
    "name": "ipython",
    "version": 3
   },
   "version": "3.7.4-final"
  },
  "orig_nbformat": 2,
  "file_extension": ".py",
  "mimetype": "text/x-python",
  "name": "python",
  "npconvert_exporter": "python",
  "pygments_lexer": "ipython3",
  "version": 3,
  "kernelspec": {
   "name": "python37464bitbasecondaf247f88ea4b24287860678040d31b5ad",
   "display_name": "Python 3.7.4 64-bit ('base': conda)"
  }
 },
 "cells": [
  {
   "cell_type": "markdown",
   "execution_count": null,
   "metadata": {},
   "outputs": [],
   "source": [
    "# File Manipulation\n",
    "1. Write a program that converts the Excel spreadsheet ./iris_data.xlsx into a CSV file with the same data."
   ]
  },
  {
   "source": [
    "import openpyxl\n",
    "import csv\n",
    "\n",
    "filename = 'csvFiles/iris_data.xlsx'\n",
    "wb = openpyxl.load_workbook(filename)\n",
    "\n",
    "sheet = wb[\"Fisher's Iris Data\"]\n",
    "\n",
    "with open('csvFiles/iris_data.csv', 'w') as File:\n",
    "    writer = csv.writer(File, delimiter=',', quotechar='\"', quoting=csv.QUOTE_ALL)\n",
    "\n",
    "    for row_idx in range(sheet.max_row):\n",
    "        col = []\n",
    "        for column in list(sheet.columns):\n",
    "            col.append(column[row_idx].value)\n",
    "        writer.writerow(col)"
   ],
   "cell_type": "code",
   "outputs": [],
   "metadata": {},
   "execution_count": 12
  },
  {
   "cell_type": "markdown",
   "execution_count": 47,
   "metadata": {},
   "outputs": [
    {
     "ename": "SyntaxError",
     "evalue": "invalid syntax (<ipython-input-47-58a2fd61bdee>, line 1)",
     "output_type": "error",
     "traceback": [
      "\u001b[0;36m  File \u001b[0;32m\"<ipython-input-47-58a2fd61bdee>\"\u001b[0;36m, line \u001b[0;32m1\u001b[0m\n\u001b[0;31m    2. Write a program, which converts befkbhalderstatkode.csv from a CSV file into a Python module kkdata.py containing a dictionary named STATISTICS.\u001b[0m\n\u001b[0m           ^\u001b[0m\n\u001b[0;31mSyntaxError\u001b[0m\u001b[0;31m:\u001b[0m invalid syntax\n"
     ]
    }
   ],
   "source": [
    "2. Write a program, which converts befkbhalderstatkode.csv from a CSV file into a Python module kkdata.py containing a dictionary named STATISTICS."
   ]
  },
  {
   "cell_type": "code",
   "execution_count": 181,
   "metadata": {},
   "outputs": [],
   "source": [
    "import csv\n",
    "import kkdata\n",
    "import pprint\n",
    "\n",
    "with open('../csvFiles/befkbhalderstatkode.csv', 'r') as File:\n",
    "    reader = csv.reader(File)\n",
    "    header_row = next(reader)\n",
    "    kkdata.STATISTICS = {}\n",
    "    for row in reader:\n",
    "        if row[0] not in kkdata.STATISTICS:\n",
    "            kkdata.STATISTICS[row[0]] = {}\n",
    "        if row[1] not in kkdata.STATISTICS[row[0]]:\n",
    "            kkdata.STATISTICS[row[0]][row[1]] = {}\n",
    "        if row[2] not in kkdata.STATISTICS[row[0]][row[1]]:\n",
    "            kkdata.STATISTICS[row[0]][row[1]][row[2]] = {}\n",
    "        kkdata.STATISTICS[row[0]][row[1]][row[2]][row[3]] = row[4]\n",
    "\n",
    "with open('./kkdata.py', 'w') as out_file:\n",
    " out_file.write('STATISTICS =' + pprint.pformat(kkdata.STATISTICS))"
   ]
  }
 ]
}