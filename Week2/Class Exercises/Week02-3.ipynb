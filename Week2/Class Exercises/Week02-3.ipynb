{
 "nbformat": 4,
 "nbformat_minor": 2,
 "metadata": {
  "language_info": {
   "name": "python",
   "codemirror_mode": {
    "name": "ipython",
    "version": 3
   },
   "version": "3.7.4-final"
  },
  "orig_nbformat": 2,
  "file_extension": ".py",
  "mimetype": "text/x-python",
  "name": "python",
  "npconvert_exporter": "python",
  "pygments_lexer": "ipython3",
  "version": 3,
  "kernelspec": {
   "name": "python37464bitbasecondaf247f88ea4b24287860678040d31b5ad",
   "display_name": "Python 3.7.4 64-bit ('base': conda)"
  }
 },
 "cells": [
  {
   "source": [
    "import Modules.TextContainer as TC\n",
    "from importlib import reload\n",
    "reload(TC)\n",
    "\n",
    "tc = TC.TextContainer(\"Test! test2? test3. test4\\ntest*5 test6\")\n",
    "print(tc.text)\n",
    "print(tc.count_words())\n",
    "print(tc.count_chars())\n",
    "print(tc.count_ascii())\n",
    "print(tc.remove_punctation())"
   ],
   "cell_type": "code",
   "outputs": [
    {
     "output_type": "stream",
     "name": "stdout",
     "text": "Test! test2? test3. test4\ntest*5 test6\n7\n38\n24\nTest test2 test3 test4\ntest5 test6\n"
    }
   ],
   "metadata": {},
   "execution_count": 1
  }
 ]
}