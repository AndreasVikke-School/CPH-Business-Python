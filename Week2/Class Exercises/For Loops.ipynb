{
 "nbformat": 4,
 "nbformat_minor": 2,
 "metadata": {
  "language_info": {
   "name": "python",
   "codemirror_mode": {
    "name": "ipython",
    "version": 3
   },
   "version": "3.7.4-final"
  },
  "orig_nbformat": 2,
  "file_extension": ".py",
  "mimetype": "text/x-python",
  "name": "python",
  "npconvert_exporter": "python",
  "pygments_lexer": "ipython3",
  "version": 3,
  "kernelspec": {
   "name": "python37464bitbasecondaf247f88ea4b24287860678040d31b5ad",
   "display_name": "Python 3.7.4 64-bit ('base': conda)"
  }
 },
 "cells": [
  {
   "cell_type": "markdown",
   "execution_count": 1,
   "metadata": {},
   "outputs": [
    {
     "name": "stdout",
     "output_type": "stream",
     "text": "Hello\n"
    }
   ],
   "source": [
    "# 1. Write a program that creates gramatically valid English sentences.\n",
    "Here, we consider a sentence to be gramatically correct when it follows the simple English grammar of the form: Article Adjective Noun Verb. That is, even the sentence A insect fly. is, for the moment, considered correct."
   ]
  },
  {
   "cell_type": "code",
   "execution_count": 4,
   "metadata": {},
   "outputs": [
    {
     "name": "stdout",
     "output_type": "stream",
     "text": "A bloody mass act\n"
    }
   ],
   "source": [
    "import random\n",
    "\n",
    "articals = ['A', 'An', 'The']\n",
    "verbs = ['accept', 'achieve', 'act', 'add']\n",
    "nouns = ['adjustment', 'advice', 'mass', 'belief']\n",
    "adjectives = ['black', 'bloody', 'amusing', 'attentive']\n",
    "\n",
    "print(articals[random.randint(0,2)], adjectives[random.randint(0, 3)], nouns[random.randint(0, 3)], verbs[random.randint(0, 3)])"
   ]
  },
  {
   "cell_type": "code",
   "execution_count": 5,
   "metadata": {},
   "outputs": [
    {
     "name": "stdout",
     "output_type": "stream",
     "text": "A black adjustment accept\nA black adjustment achieve\nA black adjustment act\nA black adjustment add\nA black advice accept\nA black advice achieve\nA black advice act\nA black advice add\nA black mass accept\nA black mass achieve\nA black mass act\nA black mass add\nA black belief accept\nA black belief achieve\nA black belief act\nA black belief add\nA bloody adjustment accept\nA bloody adjustment achieve\nA bloody adjustment act\nA bloody adjustment add\nA bloody advice accept\nA bloody advice achieve\nA bloody advice act\nA bloody advice add\nA bloody mass accept\nA bloody mass achieve\nA bloody mass act\nA bloody mass add\nA bloody belief accept\nA bloody belief achieve\nA bloody belief act\nA bloody belief add\nA amusing adjustment accept\nA amusing adjustment achieve\nA amusing adjustment act\nA amusing adjustment add\nA amusing advice accept\nA amusing advice achieve\nA amusing advice act\nA amusing advice add\nA amusing mass accept\nA amusing mass achieve\nA amusing mass act\nA amusing mass add\nA amusing belief accept\nA amusing belief achieve\nA amusing belief act\nA amusing belief add\nA attentive adjustment accept\nA attentive adjustment achieve\nA attentive adjustment act\nA attentive adjustment add\nA attentive advice accept\nA attentive advice achieve\nA attentive advice act\nA attentive advice add\nA attentive mass accept\nA attentive mass achieve\nA attentive mass act\nA attentive mass add\nA attentive belief accept\nA attentive belief achieve\nA attentive belief act\nA attentive belief add\nAn black adjustment accept\nAn black adjustment achieve\nAn black adjustment act\nAn black adjustment add\nAn black advice accept\nAn black advice achieve\nAn black advice act\nAn black advice add\nAn black mass accept\nAn black mass achieve\nAn black mass act\nAn black mass add\nAn black belief accept\nAn black belief achieve\nAn black belief act\nAn black belief add\nAn bloody adjustment accept\nAn bloody adjustment achieve\nAn bloody adjustment act\nAn bloody adjustment add\nAn bloody advice accept\nAn bloody advice achieve\nAn bloody advice act\nAn bloody advice add\nAn bloody mass accept\nAn bloody mass achieve\nAn bloody mass act\nAn bloody mass add\nAn bloody belief accept\nAn bloody belief achieve\nAn bloody belief act\nAn bloody belief add\nAn amusing adjustment accept\nAn amusing adjustment achieve\nAn amusing adjustment act\nAn amusing adjustment add\nAn amusing advice accept\nAn amusing advice achieve\nAn amusing advice act\nAn amusing advice add\nAn amusing mass accept\nAn amusing mass achieve\nAn amusing mass act\nAn amusing mass add\nAn amusing belief accept\nAn amusing belief achieve\nAn amusing belief act\nAn amusing belief add\nAn attentive adjustment accept\nAn attentive adjustment achieve\nAn attentive adjustment act\nAn attentive adjustment add\nAn attentive advice accept\nAn attentive advice achieve\nAn attentive advice act\nAn attentive advice add\nAn attentive mass accept\nAn attentive mass achieve\nAn attentive mass act\nAn attentive mass add\nAn attentive belief accept\nAn attentive belief achieve\nAn attentive belief act\nAn attentive belief add\nThe black adjustment accept\nThe black adjustment achieve\nThe black adjustment act\nThe black adjustment add\nThe black advice accept\nThe black advice achieve\nThe black advice act\nThe black advice add\nThe black mass accept\nThe black mass achieve\nThe black mass act\nThe black mass add\nThe black belief accept\nThe black belief achieve\nThe black belief act\nThe black belief add\nThe bloody adjustment accept\nThe bloody adjustment achieve\nThe bloody adjustment act\nThe bloody adjustment add\nThe bloody advice accept\nThe bloody advice achieve\nThe bloody advice act\nThe bloody advice add\nThe bloody mass accept\nThe bloody mass achieve\nThe bloody mass act\nThe bloody mass add\nThe bloody belief accept\nThe bloody belief achieve\nThe bloody belief act\nThe bloody belief add\nThe amusing adjustment accept\nThe amusing adjustment achieve\nThe amusing adjustment act\nThe amusing adjustment add\nThe amusing advice accept\nThe amusing advice achieve\nThe amusing advice act\nThe amusing advice add\nThe amusing mass accept\nThe amusing mass achieve\nThe amusing mass act\nThe amusing mass add\nThe amusing belief accept\nThe amusing belief achieve\nThe amusing belief act\nThe amusing belief add\nThe attentive adjustment accept\nThe attentive adjustment achieve\nThe attentive adjustment act\nThe attentive adjustment add\nThe attentive advice accept\nThe attentive advice achieve\nThe attentive advice act\nThe attentive advice add\nThe attentive mass accept\nThe attentive mass achieve\nThe attentive mass act\nThe attentive mass add\nThe attentive belief accept\nThe attentive belief achieve\nThe attentive belief act\nThe attentive belief add\n"
    }
   ],
   "source": [
    "for ar in articals:\n",
    "    for ad in adjectives:\n",
    "        for n in nouns:\n",
    "            for v in verbs:\n",
    "                print(ar, ad, n, v) "
   ]
  }
 ]
}