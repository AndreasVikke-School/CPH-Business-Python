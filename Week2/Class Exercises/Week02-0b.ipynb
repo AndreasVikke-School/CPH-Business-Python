{
 "nbformat": 4,
 "nbformat_minor": 2,
 "metadata": {
  "language_info": {
   "name": "python",
   "codemirror_mode": {
    "name": "ipython",
    "version": 3
   },
   "version": "3.7.4-final"
  },
  "orig_nbformat": 2,
  "file_extension": ".py",
  "mimetype": "text/x-python",
  "name": "python",
  "npconvert_exporter": "python",
  "pygments_lexer": "ipython3",
  "version": 3,
  "kernelspec": {
   "name": "python37464bitbasecondaf247f88ea4b24287860678040d31b5ad",
   "display_name": "Python 3.7.4 64-bit ('base': conda)"
  }
 },
 "cells": [
  {
   "cell_type": "markdown",
   "execution_count": null,
   "metadata": {},
   "outputs": [],
   "source": [
    "# Defining a function\n",
    "1. Write a function that iterates through a list and prints each value without using a loop."
   ]
  },
  {
   "cell_type": "code",
   "execution_count": 40,
   "metadata": {},
   "outputs": [],
   "source": [
    "def printList(l):\n",
    "    if(len(l) > 0):\n",
    "        print(l[0])\n",
    "        l.pop(0)\n",
    "        return printList(l)"
   ]
  },
  {
   "cell_type": "code",
   "execution_count": 42,
   "metadata": {},
   "outputs": [
    {
     "name": "stdout",
     "output_type": "stream",
     "text": "a\nb\nc\nd\ne\n"
    }
   ],
   "source": [
    "l = [\"a\", \"b\", \"c\", \"d\", \"e\"]\n",
    "printList(l)"
   ]
  },
  {
   "cell_type": "markdown",
   "execution_count": null,
   "metadata": {},
   "outputs": [],
   "source": [
    "2. Write a function that can take any number of arguments and return all arguments concatenated or summed depending on the data type"
   ]
  },
  {
   "source": [
    "def concat(*arguments):\n",
    "    result = {}\n",
    "    for argument in arguments:\n",
    "        if(isinstance(argument, str)):\n",
    "            result['s'] = result.get(\"s\", \"\") + argument\n",
    "        else:\n",
    "            result['i'] = result.get(\"i\", 0) + argument\n",
    "    return result.get('s', \"\"), result.get(\"i\", 0)"
   ],
   "cell_type": "code",
   "outputs": [],
   "metadata": {},
   "execution_count": 16
  },
  {
   "source": [
    "concat(\"H\", \"ELL\", \"O\", 1, 4, 5)"
   ],
   "cell_type": "code",
   "outputs": [
    {
     "output_type": "execute_result",
     "data": {
      "text/plain": "('HELLO', 10)"
     },
     "metadata": {},
     "execution_count": 18
    }
   ],
   "metadata": {},
   "execution_count": 18
  }
 ]
}