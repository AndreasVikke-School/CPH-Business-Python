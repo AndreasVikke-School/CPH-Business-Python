{
 "nbformat": 4,
 "nbformat_minor": 2,
 "metadata": {
  "language_info": {
   "name": "python",
   "codemirror_mode": {
    "name": "ipython",
    "version": 3
   },
   "version": "3.7.4-final"
  },
  "orig_nbformat": 2,
  "file_extension": ".py",
  "mimetype": "text/x-python",
  "name": "python",
  "npconvert_exporter": "python",
  "pygments_lexer": "ipython3",
  "version": 3,
  "kernelspec": {
   "name": "python37464bitbasecondaf247f88ea4b24287860678040d31b5ad",
   "display_name": "Python 3.7.4 64-bit ('base': conda)"
  }
 },
 "cells": [
  {
   "cell_type": "code",
   "execution_count": 2,
   "metadata": {},
   "outputs": [
    {
     "data": {
      "text/plain": "<module 'Modules.webget' from '/home/andreas/OneDrivee/Documents/Skole/Datamatiker/4.Semester/Python/Week2/Class Exercises/Modules/webget.py'>"
     },
     "execution_count": 2,
     "metadata": {},
     "output_type": "execute_result"
    }
   ],
   "source": [
    "import Modules.webget as webget\n",
    "from importlib import reload\n",
    "reload(webget)"
   ]
  },
  {
   "cell_type": "code",
   "execution_count": 3,
   "metadata": {},
   "outputs": [
    {
     "name": "stdout",
     "output_type": "stream",
     "text": "./Sample-Spreadsheet-10-rows.csv\n"
    }
   ],
   "source": [
    "# print(webget.download(\"http://data.kk.dk/dataset/76ecf368-bf2d-46a2-bcf8-adaf37662528/resource/9286af17-f74e-46c9-a428-9fb707542189/download/befkbhalderstatkode.csv\"))\n",
    "\n",
    "# print(webget.download(\"http://data.kk.dk/dataset/76ecf368-bf2d-46a2-bcf8-adaf37662528/resource/9286af17-f74e-46c9-a428-9fb707542189/download/befkbhalderstatkode.csv\", \"./Test.csv\"))\n",
    "\n",
    "print(webget.download(\"https://www.sample-videos.com/csv/Sample-Spreadsheet-10-rows.csv\"))"
   ]
  }
 ]
}