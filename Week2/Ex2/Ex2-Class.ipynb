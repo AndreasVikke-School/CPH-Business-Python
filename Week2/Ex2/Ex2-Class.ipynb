{
 "nbformat": 4,
 "nbformat_minor": 2,
 "metadata": {
  "language_info": {
   "name": "python",
   "codemirror_mode": {
    "name": "ipython",
    "version": 3
   }
  },
  "orig_nbformat": 2,
  "file_extension": ".py",
  "mimetype": "text/x-python",
  "name": "python",
  "npconvert_exporter": "python",
  "pygments_lexer": "ipython3",
  "version": 3
 },
 "cells": [
  {
   "cell_type": "markdown",
   "execution_count": 1,
   "metadata": {},
   "outputs": [
    {
     "name": "stdout",
     "output_type": "stream",
     "text": "Hello\n"
    }
   ],
   "source": [
    "# 1. Write a program that creates gramatically valid English sentences.\n",
    "Here, we consider a sentence to be gramatically correct when it follows the simple English grammar of the form: Article Adjective Noun Verb. That is, even the sentence A insect fly. is, for the moment, considered correct."
   ]
  },
  {
   "cell_type": "code",
   "execution_count": 12,
   "metadata": {},
   "outputs": [
    {
     "name": "stdout",
     "output_type": "stream",
     "text": "The amusing adjustment achieve\n"
    }
   ],
   "source": [
    "import random\n",
    "\n",
    "articals = ['A', 'An', 'The']\n",
    "verbs = ['accept', 'achieve', 'act', 'add']\n",
    "nouns = ['adjustment', 'advice', 'mass', 'belief']\n",
    "adjectives = ['black', 'bloody', 'amusing', 'attentive']\n",
    "\n",
    "print(articals[random.randint(0,3)], adjectives[random.randint(0, 3)] + \" \" + nouns[random.randint(0, 3)] + \" \" + verbs[random.randint(0, 3)])"
   ]
  },
  {
   "cell_type": "code",
   "execution_count": null,
   "metadata": {},
   "outputs": [],
   "source": []
  }
 ]
}