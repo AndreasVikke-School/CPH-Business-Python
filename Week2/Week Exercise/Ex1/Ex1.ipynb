{
 "nbformat": 4,
 "nbformat_minor": 2,
 "metadata": {
  "language_info": {
   "name": "python",
   "codemirror_mode": {
    "name": "ipython",
    "version": 3
   },
   "version": "3.7.4-final"
  },
  "orig_nbformat": 2,
  "file_extension": ".py",
  "mimetype": "text/x-python",
  "name": "python",
  "npconvert_exporter": "python",
  "pygments_lexer": "ipython3",
  "version": 3,
  "kernelspec": {
   "name": "python37464bitbasecondaf247f88ea4b24287860678040d31b5ad",
   "display_name": "Python 3.7.4 64-bit ('base': conda)"
  }
 },
 "cells": [
  {
   "cell_type": "markdown",
   "execution_count": null,
   "metadata": {},
   "outputs": [],
   "source": [
    "# Exercise 1"
   ]
  },
  {
   "cell_type": "code",
   "execution_count": 2,
   "metadata": {},
   "outputs": [
    {
     "data": {
      "text/plain": "<module 'Ex1' from '/home/andreas/OneDrivee/Documents/Skole/Datamatiker/4.Semester/Python/Week2/Week Exercise/Ex1/Ex1.py'>"
     },
     "execution_count": 2,
     "metadata": {},
     "output_type": "execute_result"
    }
   ],
   "source": [
    "import Ex1\n",
    "from importlib import reload\n",
    "reload(Ex1)"
   ]
  },
  {
   "cell_type": "markdown",
   "execution_count": null,
   "metadata": {},
   "outputs": [],
   "source": [
    "1. Create a python file with 3 functions:\n",
    "\n",
    "    a. def print_file_content(file) that can print content of a csv file to the console"
   ]
  },
  {
   "cell_type": "code",
   "execution_count": 4,
   "metadata": {},
   "outputs": [
    {
     "name": "stdout",
     "output_type": "stream",
     "text": "['1', 'Eldon Base for stackable storage shelf, platinum', 'Muhammed MacIntyre', '3', '-213.25', '38.94', '35', 'Nunavut', 'Storage & Organization', '0.8']\n['2', '1.7 Cubic Foot Compact \"Cube\" Office Refrigerators', 'Barry French', '293', '457.81', '208.16', '68.02', 'Nunavut', 'Appliances', '0.58']\n['3', 'Cardinal Slant-D® Ring Binder, Heavy Gauge Vinyl', 'Barry French', '293', '46.71', '8.69', '2.99', 'Nunavut', 'Binders and Binder Accessories', '0.39']\n['4', 'R380', 'Clay Rozendal', '483', '1198.97', '195.99', '3.99', 'Nunavut', 'Telephones and Communication', '0.58']\n['5', 'Holmes HEPA Air Purifier', 'Carlos Soltero', '515', '30.94', '21.78', '5.94', 'Nunavut', 'Appliances', '0.5']\n['6', 'G.E. Longer-Life Indoor Recessed Floodlight Bulbs', 'Carlos Soltero', '515', '4.43', '6.64', '4.95', 'Nunavut', 'Office Furnishings', '0.37']\n['7', 'Angle-D Binders with Locking Rings, Label Holders', 'Carl Jackson', '613', '-54.04', '7.3', '7.72', 'Nunavut', 'Binders and Binder Accessories', '0.38']\n['8', 'SAFCO Mobile Desk Side File, Wire Frame', 'Carl Jackson', '613', '127.70', '42.76', '6.22', 'Nunavut', 'Storage & Organization', '']\n['9', 'SAFCO Commercial Wire Shelving, Black', 'Monica Federle', '643', '-695.26', '138.14', '35', 'Nunavut', 'Storage & Organization', '']\n['10', 'Xerox 198', 'Dorothy Badders', '678', '-226.36', '4.98', '8.33', 'Nunavut', 'Paper', '0.38']\n"
    }
   ],
   "source": [
    "Ex1.print_file_content('../../Class Exercises/csvFiles/Sample-Spreadsheet-10-rows.csv')"
   ]
  },
  {
   "cell_type": "markdown",
   "execution_count": null,
   "metadata": {},
   "outputs": [],
   "source": [
    "b. def write_list_to_file(output_file, lst) that can take a list of tuple and write each element to a new line in file\n",
    "\n",
    "    a. rewrite the function so that it gets an arbitrary number of strings instead of a list"
   ]
  },
  {
   "cell_type": "code",
   "execution_count": 6,
   "metadata": {},
   "outputs": [
    {
     "name": "stdout",
     "output_type": "stream",
     "text": "['Test']\n['Test2']\n['Test3']\n['Test4']\n['Test5']\n"
    }
   ],
   "source": [
    "Ex1.write_list_to_file('./Write2.csv', \"Test\", \"Test2\", \"Test3\", \"Test4\", \"Test5\")\n",
    "Ex1.print_file_content('./Write2.csv')"
   ]
  },
  {
   "cell_type": "markdown",
   "execution_count": null,
   "metadata": {},
   "outputs": [],
   "source": [
    "c. def read_csv(input_file) that take a csv file and read each row into a list"
   ]
  },
  {
   "cell_type": "code",
   "execution_count": 8,
   "metadata": {},
   "outputs": [
    {
     "data": {
      "text/plain": "[['1',\n  'Eldon Base for stackable storage shelf, platinum',\n  'Muhammed MacIntyre',\n  '3',\n  '-213.25',\n  '38.94',\n  '35',\n  'Nunavut',\n  'Storage & Organization',\n  '0.8'],\n ['2',\n  '1.7 Cubic Foot Compact \"Cube\" Office Refrigerators',\n  'Barry French',\n  '293',\n  '457.81',\n  '208.16',\n  '68.02',\n  'Nunavut',\n  'Appliances',\n  '0.58'],\n ['3',\n  'Cardinal Slant-D® Ring Binder, Heavy Gauge Vinyl',\n  'Barry French',\n  '293',\n  '46.71',\n  '8.69',\n  '2.99',\n  'Nunavut',\n  'Binders and Binder Accessories',\n  '0.39'],\n ['4',\n  'R380',\n  'Clay Rozendal',\n  '483',\n  '1198.97',\n  '195.99',\n  '3.99',\n  'Nunavut',\n  'Telephones and Communication',\n  '0.58'],\n ['5',\n  'Holmes HEPA Air Purifier',\n  'Carlos Soltero',\n  '515',\n  '30.94',\n  '21.78',\n  '5.94',\n  'Nunavut',\n  'Appliances',\n  '0.5'],\n ['6',\n  'G.E. Longer-Life Indoor Recessed Floodlight Bulbs',\n  'Carlos Soltero',\n  '515',\n  '4.43',\n  '6.64',\n  '4.95',\n  'Nunavut',\n  'Office Furnishings',\n  '0.37'],\n ['7',\n  'Angle-D Binders with Locking Rings, Label Holders',\n  'Carl Jackson',\n  '613',\n  '-54.04',\n  '7.3',\n  '7.72',\n  'Nunavut',\n  'Binders and Binder Accessories',\n  '0.38'],\n ['8',\n  'SAFCO Mobile Desk Side File, Wire Frame',\n  'Carl Jackson',\n  '613',\n  '127.70',\n  '42.76',\n  '6.22',\n  'Nunavut',\n  'Storage & Organization',\n  ''],\n ['9',\n  'SAFCO Commercial Wire Shelving, Black',\n  'Monica Federle',\n  '643',\n  '-695.26',\n  '138.14',\n  '35',\n  'Nunavut',\n  'Storage & Organization',\n  ''],\n ['10',\n  'Xerox 198',\n  'Dorothy Badders',\n  '678',\n  '-226.36',\n  '4.98',\n  '8.33',\n  'Nunavut',\n  'Paper',\n  '0.38']]"
     },
     "execution_count": 8,
     "metadata": {},
     "output_type": "execute_result"
    }
   ],
   "source": [
    "Ex1.read_csv('../../Class Exercises/csvFiles/Sample-Spreadsheet-10-rows.csv')"
   ]
  }
 ]
}