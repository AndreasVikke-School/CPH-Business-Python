{
 "nbformat": 4,
 "nbformat_minor": 2,
 "metadata": {
  "language_info": {
   "name": "python",
   "codemirror_mode": {
    "name": "ipython",
    "version": 3
   },
   "version": "3.7.4-final"
  },
  "orig_nbformat": 2,
  "file_extension": ".py",
  "mimetype": "text/x-python",
  "name": "python",
  "npconvert_exporter": "python",
  "pygments_lexer": "ipython3",
  "version": 3,
  "kernelspec": {
   "name": "python37464bitbasecondaf247f88ea4b24287860678040d31b5ad",
   "display_name": "Python 3.7.4 64-bit ('base': conda)"
  }
 },
 "cells": [
  {
   "cell_type": "code",
   "execution_count": 2,
   "metadata": {},
   "outputs": [
    {
     "data": {
      "text/plain": "<module 'utils' from '/home/andreas/OneDrivee/Documents/Skole/Datamatiker/4.Semester/Python/Week2/Week Exercise/Ex2/utils.py'>"
     },
     "execution_count": 2,
     "metadata": {},
     "output_type": "execute_result"
    }
   ],
   "source": [
    "import utils\n",
    "from importlib import reload\n",
    "reload(utils)"
   ]
  },
  {
   "cell_type": "code",
   "execution_count": 3,
   "metadata": {},
   "outputs": [],
   "source": [
    "utils.write_folder_content_to_file('../', './FolderContent.csv')"
   ]
  },
  {
   "cell_type": "code",
   "execution_count": 6,
   "metadata": {},
   "outputs": [
    {
     "name": "stdout",
     "output_type": "stream",
     "text": "import csv\n\nTest\n\nimport os\n\n"
    }
   ],
   "source": [
    "l = [\"../Ex1/Ex1.py\", \"../Ex1/Write.csv\", \"./utils.py\"]\n",
    "\n",
    "utils.print_first_line_of_files(l)"
   ]
  },
  {
   "cell_type": "code",
   "execution_count": 7,
   "metadata": {},
   "outputs": [
    {
     "name": "stdout",
     "output_type": "stream",
     "text": "andreas@vikke.dk\n                    if '@' in line:\n\n"
    }
   ],
   "source": [
    "l = [\"../Ex1/Ex1.py\", \"../Ex1/Write.csv\", \"./utils.py\"]\n",
    "\n",
    "utils.print_emails_of_files(l)"
   ]
  },
  {
   "cell_type": "code",
   "execution_count": 8,
   "metadata": {},
   "outputs": [
    {
     "name": "stdout",
     "output_type": "stream",
     "text": "# Test 1\n\n"
    }
   ],
   "source": [
    "l = [\"../MD_Files/Test1.md\"]\n",
    "\n",
    "utils.print_headers_of_md(l)"
   ]
  }
 ]
}