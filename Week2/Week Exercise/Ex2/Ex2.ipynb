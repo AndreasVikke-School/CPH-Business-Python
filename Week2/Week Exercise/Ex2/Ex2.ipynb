{
 "nbformat": 4,
 "nbformat_minor": 2,
 "metadata": {
  "language_info": {
   "name": "python",
   "codemirror_mode": {
    "name": "ipython",
    "version": 3
   },
   "version": "3.7.4-final"
  },
  "orig_nbformat": 2,
  "file_extension": ".py",
  "mimetype": "text/x-python",
  "name": "python",
  "npconvert_exporter": "python",
  "pygments_lexer": "ipython3",
  "version": 3,
  "kernelspec": {
   "name": "python37464bitbasecondaf247f88ea4b24287860678040d31b5ad",
   "display_name": "Python 3.7.4 64-bit ('base': conda)"
  }
 },
 "cells": [
  {
   "cell_type": "markdown",
   "execution_count": null,
   "metadata": {},
   "outputs": [],
   "source": [
    "# Exercise 2"
   ]
  },
  {
   "cell_type": "code",
   "execution_count": 2,
   "metadata": {},
   "outputs": [
    {
     "data": {
      "text/plain": "<module 'utils' from '/home/andreas/OneDrivee/Documents/Skole/Datamatiker/4.Semester/Python/Week2/Week Exercise/Ex2/utils.py'>"
     },
     "execution_count": 2,
     "metadata": {},
     "output_type": "execute_result"
    }
   ],
   "source": [
    "import utils\n",
    "from importlib import reload\n",
    "reload(utils)"
   ]
  },
  {
   "cell_type": "markdown",
   "execution_count": null,
   "metadata": {},
   "outputs": [],
   "source": [
    "1. first function takes a path to a folder and writes all filenames in the folder to a specified output file\n",
    "2. second takes a path to a folder and write all filenames recursively (files of all sub folders to)"
   ]
  },
  {
   "cell_type": "code",
   "execution_count": 7,
   "metadata": {},
   "outputs": [],
   "source": [
    "utils.write_folder_content_to_file('../', './FolderContent.csv')\n",
    "utils.write_folder_content_to_file_with_dir('../', './FolderContentDir.csv')"
   ]
  },
  {
   "cell_type": "markdown",
   "execution_count": null,
   "metadata": {},
   "outputs": [],
   "source": [
    "3. third takes a list of filenames and print the first line of each"
   ]
  },
  {
   "cell_type": "code",
   "execution_count": 6,
   "metadata": {},
   "outputs": [
    {
     "name": "stdout",
     "output_type": "stream",
     "text": "import csv\n\nTest\n\nimport os\n\n"
    }
   ],
   "source": [
    "l = [\"../Ex1/Ex1.py\", \"../Ex1/Write.csv\", \"./utils.py\"]\n",
    "\n",
    "utils.print_first_line_of_files(l)"
   ]
  },
  {
   "cell_type": "markdown",
   "execution_count": null,
   "metadata": {},
   "outputs": [],
   "source": [
    "4. fourth takes a list of filenames and print each line that contains an email (just look for @)"
   ]
  },
  {
   "cell_type": "code",
   "execution_count": 7,
   "metadata": {},
   "outputs": [
    {
     "name": "stdout",
     "output_type": "stream",
     "text": "andreas@vikke.dk\n                    if '@' in line:\n\n"
    }
   ],
   "source": [
    "l = [\"../Ex1/Ex1.py\", \"../Ex1/Write.csv\", \"./utils.py\"]\n",
    "\n",
    "utils.print_emails_of_files(l)"
   ]
  },
  {
   "cell_type": "markdown",
   "execution_count": null,
   "metadata": {},
   "outputs": [],
   "source": [
    "5. fifth takes a list of md files and writes all headlines (lines starting with #) to a file Make sure your module can be called both from cli and imported to another module Create a new module that imports utils.py and test each function."
   ]
  },
  {
   "cell_type": "code",
   "execution_count": 8,
   "metadata": {},
   "outputs": [
    {
     "name": "stdout",
     "output_type": "stream",
     "text": "# Test 1\n\n"
    }
   ],
   "source": [
    "l = [\"../MD_Files/Test1.md\"]\n",
    "\n",
    "utils.print_headers_of_md(l)"
   ]
  }
 ]
}