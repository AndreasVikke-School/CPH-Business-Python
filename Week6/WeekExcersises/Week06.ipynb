{
 "nbformat": 4,
 "nbformat_minor": 2,
 "metadata": {
  "language_info": {
   "name": "python",
   "codemirror_mode": {
    "name": "ipython",
    "version": 3
   },
   "version": "3.8.2-final"
  },
  "orig_nbformat": 2,
  "file_extension": ".py",
  "mimetype": "text/x-python",
  "name": "python",
  "npconvert_exporter": "python",
  "pygments_lexer": "ipython3",
  "version": 3,
  "kernelspec": {
   "name": "python37464bitbasecondaef21268569924163a6a9fb3f2354d57b",
   "display_name": "Python 3.7.4 64-bit ('base': conda)"
  }
 },
 "cells": [
  {
   "cell_type": "code",
   "execution_count": 1,
   "metadata": {},
   "outputs": [],
   "source": [
    "from Modules.URLDownloaderModule import URLDownloader\n",
    "urld = URLDownloader(['https://www.google.dk/', 'https://twitter.com/', 'https://github.com/', 'https://www.facebook.com/'])"
   ]
  },
  {
   "cell_type": "code",
   "execution_count": 4,
   "metadata": {},
   "outputs": [
    {
     "data": {
      "text/plain": "'test.txt'"
     },
     "execution_count": 4,
     "metadata": {},
     "output_type": "execute_result"
    }
   ],
   "source": [
    "urld.download('https://www.gutenberg.org/files/1342/1342-0.txt', 'test.txt')"
   ]
  },
  {
   "cell_type": "code",
   "execution_count": 3,
   "metadata": {},
   "outputs": [],
   "source": [
    "urld.multi_download()"
   ]
  },
  {
   "cell_type": "code",
   "execution_count": 9,
   "metadata": {},
   "outputs": [
    {
     "name": "stdout",
     "output_type": "stream",
     "text": "['download.wget', 'download (3).wget', 'download (2).wget', 'download (1).wget']\n"
    }
   ],
   "source": [
    "print([f for f in urld.filelist_generator()])"
   ]
  },
  {
   "cell_type": "code",
   "execution_count": 10,
   "metadata": {},
   "outputs": [
    {
     "name": "stdout",
     "output_type": "stream",
     "text": "['download.wget', 'download (3).wget', 'download (2).wget', 'download (1).wget']\n"
    }
   ],
   "source": [
    "print([f for f in urld])"
   ]
  },
  {
   "cell_type": "code",
   "execution_count": 2,
   "metadata": {},
   "outputs": [
    {
     "name": "stdout",
     "output_type": "stream",
     "text": "2.435483870967742\n"
    }
   ],
   "source": [
    "print(urld.avg_vowels('Lorem ipsum dolor sit amet, consectetur adipiscing elit. Aliquam congue mauris id finibus viverra. Nunc et libero eleifend, ultrices ex sit amet, fermentum arcu. Praesent vehicula consectetur justo, ut tincidunt tellus lobortis efficitur. Morbi tristique eros tortor. Maecenas volutpat enim in suscipit rhoncus. Fusce at mauris justo. Etiam eget condimentum metus. Maecenas eu maximus magna. Sed a tincidunt mi, non tincidunt libero. '))"
   ]
  },
  {
   "cell_type": "code",
   "execution_count": 5,
   "metadata": {},
   "outputs": [
    {
     "name": "stdout",
     "output_type": "stream",
     "text": "{'download (3).wget': 27.84388324040669, 'download.wget': 9.847619047619048, 'download (2).wget': 9.569491525423729, 'download (1).wget': 2.3302691432903715}\n"
    }
   ],
   "source": [
    "print(urld.hardest_read())"
   ]
  }
 ]
}