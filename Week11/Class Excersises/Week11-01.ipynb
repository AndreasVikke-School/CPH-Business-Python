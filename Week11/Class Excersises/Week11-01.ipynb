{
 "nbformat": 4,
 "nbformat_minor": 2,
 "metadata": {
  "language_info": {
   "name": "python",
   "codemirror_mode": {
    "name": "ipython",
    "version": 3
   }
  },
  "orig_nbformat": 2,
  "file_extension": ".py",
  "mimetype": "text/x-python",
  "name": "python",
  "npconvert_exporter": "python",
  "pygments_lexer": "ipython3",
  "version": 3
 },
 "cells": [
  {
   "cell_type": "code",
   "execution_count": null,
   "metadata": {},
   "outputs": [],
   "source": []
  },
  {
   "cell_type": "code",
   "execution_count": null,
   "metadata": {},
   "outputs": [],
   "source": [
    "import numpy as np\n",
    "import pdb\n",
    "\n",
    "def pla(training_data, no_iterations=10000, eta=0.5):\n",
    "    \"\"\"\n",
    "    Find the proper weights to use in the perceptron based on data and target\n",
    "    Parameters:\n",
    "    training_data: list of vectors, as predictors zipped with a target value\n",
    "    no_iterations: number of times to adjust the weights to get them as close as possible to the optimal number\n",
    "    eta: the learning rate (prevent learning to go pendulum from one extreme error to the opposite)\n",
    "    \"\"\"\n",
    "    \n",
    "    dim = len(training_data[0][0]) # len = 2 (petal width and height)\n",
    "    weights =  np.random.random(dim) # error and weights (for x and y) start out as random numbers\n",
    "    \n",
    "    # initial_error\n",
    "    error = np.random.random()\n",
    "    weight_history = [np.copy(weights)]\n",
    "\n",
    "    for i in range(no_iterations):\n",
    "        #pdb.set_trace()\n",
    "        #breakpoint()\n",
    "        inp_vec, expected_label = training_data[i % len(training_data)] # expected labels are 1 or -1\n",
    "        perceptron_output = perceptron(inp_vec, weights) # perceptron output id a decimal between 0 and 1\n",
    "        error = expected_label - perceptron_output       # error \n",
    "        weights += eta * error * inp_vec # accumulate the weights\n",
    "        weight_history.append(np.copy(weights))\n",
    "        \n",
    "    return weights, weight_history \n",
    "        \n",
    "\n",
    "learned_weights, weight_history = pla(trainings_data)\n",
    "# print(weight_history)\n",
    "print(learned_weights)"
   ]
  }
 ]
}