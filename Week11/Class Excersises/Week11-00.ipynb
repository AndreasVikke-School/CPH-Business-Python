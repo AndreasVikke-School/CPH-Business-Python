{
 "nbformat": 4,
 "nbformat_minor": 2,
 "metadata": {
  "language_info": {
   "name": "python",
   "codemirror_mode": {
    "name": "ipython",
    "version": 3
   },
   "version": "3.7.6-final"
  },
  "orig_nbformat": 2,
  "file_extension": ".py",
  "mimetype": "text/x-python",
  "name": "python",
  "npconvert_exporter": "python",
  "pygments_lexer": "ipython3",
  "version": 3,
  "kernelspec": {
   "name": "python37464bitbasecondaef21268569924163a6a9fb3f2354d57b",
   "display_name": "Python 3.7.4 64-bit ('base': conda)"
  }
 },
 "cells": [
  {
   "cell_type": "code",
   "execution_count": 4,
   "metadata": {},
   "outputs": [],
   "source": [
    "import numpy as np \n",
    "import pandas as pd \n",
    "from sklearn.metrics import confusion_matrix \n",
    "from sklearn.model_selection import train_test_split \n",
    "from sklearn.tree import DecisionTreeClassifier \n",
    "from sklearn.metrics import accuracy_score \n",
    "from sklearn.metrics import classification_report"
   ]
  },
  {
   "cell_type": "code",
   "execution_count": 48,
   "metadata": {},
   "outputs": [
    {
     "output_type": "stream",
     "name": "stdout",
     "text": "['R']\n"
    },
    {
     "output_type": "execute_result",
     "data": {
      "text/plain": "0.7340425531914894"
     },
     "metadata": {},
     "execution_count": 48
    }
   ],
   "source": [
    "data = pd.read_csv('https://archive.ics.uci.edu/ml/machine-learning-databases/balance-scale/balance-scale.data', header=None)\n",
    "\n",
    "data = np.array(data)\n",
    "target = data[:,0]\n",
    "variables = data[:,1:5]\n",
    "\n",
    "\n",
    "variables_train, variables_test, target_train, target_test = train_test_split(variables, target, test_size = 0.3) \n",
    "\n",
    "\n",
    "model = DecisionTreeClassifier(criterion = \"gini\", random_state=100, max_depth=3, min_samples_leaf=5)\n",
    "model.fit(variables_train, target_train)\n",
    "\n",
    "p = model.predict([[1,1,1,1]])\n",
    "print(p)\n",
    "\n",
    "y_predicted = model.predict(variables_test)\n",
    "accuracy_score(target_test, y_predicted)"
   ]
  }
 ]
}