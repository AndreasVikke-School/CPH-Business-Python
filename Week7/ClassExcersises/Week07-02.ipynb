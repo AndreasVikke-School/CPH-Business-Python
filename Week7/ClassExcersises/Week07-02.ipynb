{
 "nbformat": 4,
 "nbformat_minor": 2,
 "metadata": {
  "language_info": {
   "name": "python",
   "codemirror_mode": {
    "name": "ipython",
    "version": 3
   },
   "version": "3.7.6-final"
  },
  "orig_nbformat": 2,
  "file_extension": ".py",
  "mimetype": "text/x-python",
  "name": "python",
  "npconvert_exporter": "python",
  "pygments_lexer": "ipython3",
  "version": 3,
  "kernelspec": {
   "name": "python37464bitbasecondaef21268569924163a6a9fb3f2354d57b",
   "display_name": "Python 3.7.4 64-bit ('base': conda)"
  }
 },
 "cells": [
  {
   "cell_type": "code",
   "execution_count": 8,
   "metadata": {},
   "outputs": [
    {
     "name": "stdout",
     "output_type": "stream",
     "text": "['Peter Hansen', 'Peter Beier', 'Peter Jensen', 'Peter Kold', 'Peter Harold']\n"
    }
   ],
   "source": [
    "import re\n",
    "\n",
    "txt = \"Peter Hansen was meeting up with Jacob Fransen for a quick lunch, but first he had to go by Peter Beier to pick up some chokolate for his wife. Meanwhile Pastor Peter Jensen was going to church to give his sermon for the same 3 people in his parish. Those were Peter Kold and Henrik Halberg plus a third person who had recently moved here from Norway called Peter Harold\"\n",
    "\n",
    "peter_reg = re.compile(r\"Peter \\w+\")\n",
    "\n",
    "peters = peter_reg.findall(txt)\n",
    "print(peters)"
   ]
  },
  {
   "cell_type": "code",
   "execution_count": 9,
   "metadata": {},
   "outputs": [
    {
     "name": "stdout",
     "output_type": "stream",
     "text": "A Henning Gamborg Møller\nKlostergade 28\n6760 Ribe\n61 69 03 76\n\nA K Møller\nBregnerødvej 75, st. 0002\n3460 Birkerød\n75 50 75 14\n\nA Møller\nViolvej 3\nØ. Bjerregrav\n8920 Randers NV\n86 45 44 36\n\nA Møller\nHyrdevej 16A\n7000 Fredericia\n76 42 00 81\n\nA Møller\nBrammersgade 45\n8000 Aarhus C\n86 13 22 99\n\nA Møller\nDalstræde 11\nHeltborg\n7760 Hurup Thy\n97 95 20 01\n\nA Møller\nJørgensgaardvej 13\n6240 Løgumkloster\n74 74 36 62\n\nA Møller Andersen\nGammel Holtevej 60\nGl Holte\n2840 Holte\n45 80 47 14\n\nA Møller Jensen\nViborgvej 115, 1. TV\nHasle\n8210 Aarhus V\n60 94 39 04\n\nA Møller Sørensen\nKorsørgade 4, 6. tv\n2100 København Ø\n35 38 97 81\n\nA Porse Møller\nRøddikvej 60\n8464 Galten\n86 94 66 60\n\nAage Beck Møller\nRødding Nørregade 8\n6630 Rødding\n20 44 00 35\n\nAage Bojsen-Møller\nNoret 3\n4780 Stege\n55 81 46 76\n\nAage Christian Møller Andersen\nJordemodervej 7\nBislev\n9240 Nibe\n20 83 70 65\n\nAage Hansen Møller\nFilippavej 38\nHundstrup\n5762 Vester Skerninge\n62 24 10 81\n\nAage Jan Møller\nNæsborgvej 50, st. th\n2650 Hvidovre\n20 83 88 62\n\nAage Karl Møller\nDyrevænget 21\nTibirke Sand\n3300 Frederiksværk\n51 15 15 66\n\nAage Majbom Møller\nPilelunden 23\n5550 Langeskov\n28 59 06 93\n\nAage Martin Møller\nAlmind Østergade 15A, 1. tv\n6051 Almind\n21 48 73 79\n\nAage Møller\nØrritslev Gade 7\nØrritslev\n5450 Otterup\n64 82 11 54\n\nAage Møller\nKnudsvej 1\n8586 Ørum Djurs\n40 10 80 76\n\nAage Møller\nFruevej 4\n7900 Nykøbing M\n21 79 64 18\n\nAage Møller\nDybdevej 30\nBolbro\n5200 Odense V\n23 66 57 00\n\nAage Møller\nHammelmosevej 12\n9700 Brønderslev\n60 45 79 69\n\nAage Møller\nBirkevej 6\n8370 Hadsten\n29 68 03 25\n"
    }
   ],
   "source": [
    "with open('addresses.txt', 'r') as file_obj:\n",
    "    addresses = file_obj.read()\n",
    "\n",
    "print(addresses)"
   ]
  },
  {
   "cell_type": "markdown",
   "metadata": {},
   "source": [
    "Write a regular expression, that you can use to create 5 lists with:\n",
    "\n",
    "- all names in the list above\n",
    "- all telephone numbers\n",
    "- all zip codes\n",
    "- all city names with corresponding zip code\n",
    "- all street names\n"
   ]
  },
  {
   "cell_type": "code",
   "execution_count": 95,
   "metadata": {},
   "outputs": [
    {
     "name": "stdout",
     "output_type": "stream",
     "text": "All Names (24):\n['A K Møller', 'A Møller', 'A Møller', 'A Møller', 'A Møller', 'A Møller', 'A Møller Andersen', 'A Møller Jensen', 'A Møller Sørensen', 'A Porse Møller', 'Aage Beck Møller', 'Aage Bojsen-Møller', 'Aage Christian Møller Andersen', 'Aage Hansen Møller', 'Aage Jan Møller', 'Aage Karl Møller', 'Aage Majbom Møller', 'Aage Martin Møller', 'Aage Møller', 'Aage Møller', 'Aage Møller', 'Aage Møller', 'Aage Møller', 'Aage Møller']\n\n\nAll Phones (25):\n['61 69 03 76', '75 50 75 14', '86 45 44 36', '76 42 00 81', '86 13 22 99', '97 95 20 01', '74 74 36 62', '45 80 47 14', '60 94 39 04', '35 38 97 81', '86 94 66 60', '20 44 00 35', '55 81 46 76', '20 83 70 65', '62 24 10 81', '20 83 88 62', '51 15 15 66', '28 59 06 93', '21 48 73 79', '64 82 11 54', '40 10 80 76', '21 79 64 18', '23 66 57 00', '60 45 79 69', '29 68 03 25']\n\n\nAll ZIPs (25):\n['6760', '3460', '8920', '7000', '8000', '7760', '6240', '2840', '8210', '2100', '8464', '6630', '4780', '9240', '5762', '2650', '3300', '5550', '6051', '5450', '8586', '7900', '5200', '9700', '8370']\n\n\nAll Cities with ZIPs (25):\n[('Ribe', '6760'), ('Birkerød', '3460'), ('Randers', '8920'), ('Fredericia', '7000'), ('Aarhus', '8000'), ('Hurup', '7760'), ('Løgumkloster', '6240'), ('Holte', '2840'), ('Aarhus', '8210'), ('København', '2100'), ('Galten', '8464'), ('Rødding', '6630'), ('Stege', '4780'), ('Nibe', '9240'), ('Vester', '5762'), ('Hvidovre', '2650'), ('Frederiksværk', '3300'), ('Langeskov', '5550'), ('Almind', '6051'), ('Otterup', '5450'), ('Ørum', '8586'), ('Nykøbing', '7900'), ('Odense', '5200'), ('Brønderslev', '9700'), ('Hadsten', '8370')]\n\n\nAll Street Names (25):\n['Klostergade 28', 'Bregnerødvej 75, st. 0002', 'Violvej 3', 'Hyrdevej 16', 'Brammersgade 45', 'Dalstræde 11', 'Jørgensgaardvej 13', 'Gammel Holtevej 60', 'Viborgvej 115, 1.', 'Korsørgade 4, 6.', 'Røddikvej 60', 'Rødding Nørregade 8', 'Noret 3', 'Jordemodervej 7', 'Filippavej 38', 'Næsborgvej 50, st.', 'Dyrevænget 21', 'Pilelunden 23', 'Almind Østergade 15', 'Ørritslev Gade 7', 'Knudsvej 1', 'Fruevej 4', 'Dybdevej 30', 'Hammelmosevej 12', 'Birkevej 6']\n\n\n"
    }
   ],
   "source": [
    "name_reg = re.compile(r\"\\n\\n(.+)\")\n",
    "phone_reg = re.compile(r'\\d{2} \\d{2} \\d{2} \\d{2}')\n",
    "city_reg = re.compile(r'(\\d{4}) (\\w+)')\n",
    "street_reg = re.compile(r'([A-Za-zÆØÅæøå]+)( \\w+)*( \\d+)(, \\w+.)*( \\d+)*')\n",
    "\n",
    "names = name_reg.findall(addresses)\n",
    "print('All Names ({}):\\n{}\\n\\n'.format(len(names), names))\n",
    "\n",
    "phones = phone_reg.findall(addresses)\n",
    "print('All Phones ({}):\\n{}\\n\\n'.format(len(phones), phones))\n",
    "\n",
    "zips = [m.group(1) for m in city_reg.finditer(addresses)]\n",
    "print('All ZIPs ({}):\\n{}\\n\\n'.format(len(zips), zips))\n",
    "\n",
    "city_zips = [(m.group(2), m.group(1)) for m in city_reg.finditer(addresses)]\n",
    "print('All Cities with ZIPs ({}):\\n{}\\n\\n'.format(len(city_zips), city_zips))\n",
    "\n",
    "street_names = [''.join(s) for s in street_reg.findall(addresses)]\n",
    "print('All Street Names ({}):\\n{}\\n\\n'.format(len(street_names), street_names))\n"
   ]
  }
 ]
}