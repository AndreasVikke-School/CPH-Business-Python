{
 "nbformat": 4,
 "nbformat_minor": 2,
 "metadata": {
  "language_info": {
   "name": "python",
   "codemirror_mode": {
    "name": "ipython",
    "version": 3
   },
   "version": "3.7.6-final"
  },
  "orig_nbformat": 2,
  "file_extension": ".py",
  "mimetype": "text/x-python",
  "name": "python",
  "npconvert_exporter": "python",
  "pygments_lexer": "ipython3",
  "version": 3,
  "kernelspec": {
   "name": "python37464bitbasecondaef21268569924163a6a9fb3f2354d57b",
   "display_name": "Python 3.7.4 64-bit ('base': conda)"
  }
 },
 "cells": [
  {
   "cell_type": "code",
   "execution_count": 52,
   "metadata": {},
   "outputs": [],
   "source": [
    "from selenium import webdriver\n",
    "from time import sleep\n",
    "import wget\n",
    "import pymysql\n",
    "import re\n",
    "import os\n",
    "\n",
    "browser = webdriver.Firefox()\n",
    "browser.get('https://www.gutenberg.org/ebooks/search/?query=sherlock+holmes+conan')\n",
    "browser.implicitly_wait(3)\n",
    "\n",
    "books = browser.find_elements_by_class_name('booklink')\n",
    "\n",
    "for book in range(0, 25):\n",
    "    books[book].click()\n",
    "    html_link = browser.find_elements_by_class_name('link')[0]\n",
    "    html_link.click()\n",
    "\n",
    "    sleep(2)\n",
    "    wget.download(browser.current_url, out='Books')\n",
    "    sleep(2)\n",
    "\n",
    "    browser.get('https://www.gutenberg.org/ebooks/search/?query=sherlock+holmes+conan')\n",
    "    books = browser.find_elements_by_class_name('booklink')\n",
    "\n",
    "browser.close()"
   ]
  },
  {
   "cell_type": "code",
   "execution_count": 123,
   "metadata": {},
   "outputs": [],
   "source": [
    "cnx = pymysql.connect(user='dev', password='ax2',host='127.0.0.1',port=3306,db='test')\n",
    "query = 'INSERT INTO sections (pound, start, end, section, amount, filename) VALUES (%(pound)s, %(start)s, %(end)s, %(section)s, %(amount)s, %(filename)s)'\n",
    "\n",
    "pound_reg = re.compile(r'(£)(\\s|\\n)*(\\d+,?\\d*)')\n",
    "\n",
    "for filename in os.listdir('Books'):\n",
    "    with open('Books/' + filename, 'r', encoding=\"ISO-8859-1\") as fo:\n",
    "        text = fo.read()\n",
    "        for m in pound_reg.finditer(text):\n",
    "            with cnx.cursor() as cursor:\n",
    "                start = text.rfind('<p', 0, m.start())\n",
    "                stop = text.find('</p>', m.start())\n",
    "                section = {\n",
    "                    'pound' : m.start(),\n",
    "                    'start' : start,\n",
    "                    'end' : stop,\n",
    "                    'section' : text[start:stop],\n",
    "                    'amount' : int(m.group(3).replace(',', '')),\n",
    "                    'filename' : filename\n",
    "                }\n",
    "                cursor.execute(query, section)\n",
    "\n",
    "cnx.commit()\n",
    "cnx.close()"
   ]
  },
  {
   "cell_type": "code",
   "execution_count": 124,
   "metadata": {},
   "outputs": [
    {
     "name": "stdout",
     "output_type": "stream",
     "text": "There are 43 £ in the first 25 books\n"
    }
   ],
   "source": [
    "cnx = pymysql.connect(user='dev', password='ax2',host='127.0.0.1',port=3306,db='test')\n",
    "query = 'SELECT COUNT(*) FROM sections'\n",
    "\n",
    "with cnx.cursor() as cursor:\n",
    "    cursor.execute(query)\n",
    "    print('There are {} £ in the first 25 books'.format(next(cursor.__iter__())[0]))\n",
    "\n",
    "cnx.close()"
   ]
  },
  {
   "cell_type": "code",
   "execution_count": 125,
   "metadata": {},
   "outputs": [
    {
     "name": "stdout",
     "output_type": "stream",
     "text": "Biggest amount is 50000 and the section it's in is: \n\n<p>\n&ldquo;&lsquo;It is absolutely essential to me,&rsquo; said he, &lsquo;that I\nshould have Â£ 50,000 at once. I could, of course, borrow so trifling a sum ten\ntimes over from my friends, but I much prefer to make it a matter of business\nand to carry out that business myself. In my position you can readily\nunderstand that it is unwise to place one&rsquo;s self under obligations.&rsquo;\n\n"
    }
   ],
   "source": [
    "cnx = pymysql.connect(user='dev', password='ax2',host='127.0.0.1',port=3306,db='test')\n",
    "query = 'SELECT amount, section FROM sections ORDER BY amount DESC LIMIT 0, 1'\n",
    "\n",
    "with cnx.cursor() as cursor:\n",
    "    cursor.execute(query)\n",
    "    biggest = next(cursor.__iter__())\n",
    "    print('Biggest amount is {} and the section it\\'s in is: \\n\\n{}'.format(biggest[0], biggest[1]))\n",
    "\n",
    "cnx.close()"
   ]
  }
 ]
}