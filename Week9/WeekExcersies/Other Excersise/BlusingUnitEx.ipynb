{
 "nbformat": 4,
 "nbformat_minor": 2,
 "metadata": {
  "language_info": {
   "name": "python",
   "codemirror_mode": {
    "name": "ipython",
    "version": 3
   },
   "version": "3.7.6-final"
  },
  "orig_nbformat": 2,
  "file_extension": ".py",
  "mimetype": "text/x-python",
  "name": "python",
  "npconvert_exporter": "python",
  "pygments_lexer": "ipython3",
  "version": 3,
  "kernelspec": {
   "name": "python37464bitbasecondaef21268569924163a6a9fb3f2354d57b",
   "display_name": "Python 3.7.4 64-bit ('base': conda)"
  }
 },
 "cells": [
  {
   "cell_type": "code",
   "execution_count": 3,
   "metadata": {},
   "outputs": [],
   "source": [
    "from selenium import webdriver\n",
    "from time import sleep\n",
    "import requests\n",
    "import pymysql\n",
    "import bs4\n",
    "\n",
    "url = 'https://www.worldometers.info/'\n",
    "browser = webdriver.Firefox()\n",
    "browser.get(url)\n",
    "sleep(2)\n",
    "\n",
    "soup = bs4.BeautifulSoup(browser.page_source, 'html.parser')\n",
    "browser.close()"
   ]
  },
  {
   "cell_type": "code",
   "execution_count": 12,
   "metadata": {},
   "outputs": [
    {
     "output_type": "stream",
     "name": "stdout",
     "text": "{'c1': {'counter_id': 'c1', 'counter_name': 'World Pop', 'count': 7773683854}, 'c31': {'counter_id': 'c31', 'counter_name': 'Obese People', 'count': 753162663}, 'c30': {'counter_id': 'c30', 'counter_name': 'Overweight People', 'count': 1690964715}, 'c29': {'counter_id': 'c29', 'counter_name': 'Undernourished', 'count': 841840550}}\n"
    }
   ],
   "source": [
    "counters = [{'c1': 'World Pop'}, {'c31': 'Obese People'}, {'c30': 'Overweight People'}, {'c29': 'Undernourished'}]\n",
    "data = {}\n",
    "\n",
    "for counter in counters:\n",
    "    html = soup.find('div', {'id' : counter}).findChildren('span', {'class' : 'rts-counter'})\n",
    "    data[list(counter.keys())[0]] = {'counter_id' : list(counter.keys())[0], 'counter_name' : list(counter.values())[0], 'count' : int(\"\".join([i.text if i.text != ',' else '' for i in html[0].findChildren()]))}\n",
    "\n",
    "print(data)"
   ]
  },
  {
   "cell_type": "code",
   "execution_count": 15,
   "metadata": {},
   "outputs": [],
   "source": [
    "cnx = pymysql.connect(user='dev', password='ax2',host='127.0.0.1',port=3306,db='test')\n",
    "\n",
    "query = \"INSERT INTO worldpop (counterId, counterName, count) VALUES (%(counter_id)s, %(counter_name)s, %(count)s)\"\n",
    "\n",
    "with cnx.cursor() as cursor:\n",
    "    for counter in data:\n",
    "        cursor.execute(query, data[counter])\n",
    "\n",
    "cnx.commit()\n",
    "cnx.close()"
   ]
  }
 ]
}