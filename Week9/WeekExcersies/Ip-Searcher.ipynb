{
 "nbformat": 4,
 "nbformat_minor": 2,
 "metadata": {
  "language_info": {
   "name": "python",
   "codemirror_mode": {
    "name": "ipython",
    "version": 3
   },
   "version": "3.7.6-final"
  },
  "orig_nbformat": 2,
  "file_extension": ".py",
  "mimetype": "text/x-python",
  "name": "python",
  "npconvert_exporter": "python",
  "pygments_lexer": "ipython3",
  "version": 3,
  "kernelspec": {
   "name": "python37464bitbasecondaef21268569924163a6a9fb3f2354d57b",
   "display_name": "Python 3.7.4 64-bit ('base': conda)"
  }
 },
 "cells": [
  {
   "cell_type": "code",
   "execution_count": 1,
   "metadata": {},
   "outputs": [],
   "source": [
    "import requests\n",
    "import pprint\n",
    "import json\n",
    "import re\n",
    "\n",
    "with open('ip-logfile.log', 'r') as fo:\n",
    "    log = fo.read()\n",
    "\n",
    "ip_reg = re.compile(r\";((\\d{1,3}).(\\d{1,3}).(\\d{1,3}).(\\d{1,3}));\")\n",
    "all_ip = set(ip_reg.findall(log))\n",
    "\n",
    "api_url = 'https://www.whoisxmlapi.com/whoisserver/WhoisService?apiKey=at_4yWBY4ApasrNfmPuIBzZupJOYSSrf&outputFormat=JSON&domainName='\n",
    "\n",
    "whois = {ip[0] : json.loads(requests.get('{}{}'.format(api_url, ip[0])).text) for ip in all_ip}\n",
    "\n",
    "with open('whois.py', 'w') as fo:\n",
    "    fo.write('whois={}'.format(whois))"
   ]
  },
  {
   "cell_type": "code",
   "execution_count": 5,
   "metadata": {},
   "outputs": [
    {
     "output_type": "stream",
     "name": "stdout",
     "text": "{'108.87.82.181': {'city': 'Redmond',\n                   'country': 'UNITED STATES',\n                   'ip': '108.87.82.181',\n                   'netname': 'SBCIS-SBIS',\n                   'organization': 'AT&T Corp.',\n                   'postalcode': '98052',\n                   'street': '16331 NE 72nd Way'},\n '139.99.172.11': {'city': 'SYDNEY',\n                   'country': 'AU',\n                   'ip': '139.99.172.11',\n                   'netname': 'VPS-SYD',\n                   'organization': 'OVH Australia PTY LTD',\n                   'postalcode': '2060',\n                   'street': '90 ARTHUR STREET  NORTH SYDNEY NSW'},\n '162.247.74.217': {'city': 'Brooklyn',\n                    'country': 'UNITED STATES',\n                    'ip': '162.247.74.217',\n                    'netname': 'CALYX-INSTITUTE-V4-1',\n                    'organization': 'The Calyx Institute',\n                    'postalcode': '11232',\n                    'street': '254 36th Street'},\n '174.130.215.196': {'city': 'Little Rock',\n                     'country': 'UNITED STATES',\n                     'ip': '174.130.215.196',\n                     'netname': 'WINDSTREAM',\n                     'organization': 'Windstream Communications LLC',\n                     'postalcode': '72212',\n                     'street': '4001 Rodney Parham Rd'},\n '185.107.47.171': {'city': 'Roosendaal',\n                    'country': 'NETHERLANDS',\n                    'ip': '185.107.47.171',\n                    'netname': 'NFORCE_ENTERTAINMENT',\n                    'organization': 'NForce Entertainment B.V.',\n                    'postalcode': '4700BC',\n                    'street': 'Postbus 1142'},\n '185.220.101.25': {'city': 'Heinestrasse 37',\n                    'country': '14621 Schoenwalde-Glien Siedlung',\n                    'ip': '185.220.101.25',\n                    'netname': 'MK-TOR-EXIT',\n                    'organization': 'Markus Koch',\n                    'postalcode': 'Markus Koch',\n                    'street': 'Provider'},\n '185.220.101.57': {'city': 'Heinestrasse 37',\n                    'country': '14621 Schoenwalde-Glien Siedlung',\n                    'ip': '185.220.101.57',\n                    'netname': 'MK-TOR-EXIT',\n                    'organization': 'Markus Koch',\n                    'postalcode': 'Markus Koch',\n                    'street': 'Provider'},\n '185.220.101.6': {'city': 'Heinestrasse 37',\n                   'country': '14621 Schoenwalde-Glien Siedlung',\n                   'ip': '185.220.101.6',\n                   'netname': 'MK-TOR-EXIT',\n                   'organization': 'Markus Koch',\n                   'postalcode': 'Markus Koch',\n                   'street': 'Provider'},\n '185.220.102.4': {'city': '01097 Dresden',\n                   'country': 'GERMANY',\n                   'ip': '185.220.102.4',\n                   'netname': 'ZWIEBELFREUNDE',\n                   'organization': 'Zwiebelfreunde e.V.',\n                   'postalcode': 'Palaisplatz 3',\n                   'street': 'c/o DID Dresdner Institut fuer Datenschutz'},\n '193.218.118.90': {'city': 'None',\n                    'country': 'UKRAINE',\n                    'ip': '193.218.118.90',\n                    'netname': 'UDN',\n                    'organization': 'Epinatura LLC',\n                    'postalcode': 'None',\n                    'street': 'Starokyivska str. 26 04116 Kiev Ukraine'},\n '199.249.230.123': {'city': 'San Angelo',\n                     'country': 'UNITED STATES',\n                     'ip': '199.249.230.123',\n                     'netname': 'QUINTEX230',\n                     'organization': 'Quintex Alliance Consulting',\n                     'postalcode': '76901',\n                     'street': '6732 Goodland Loop'},\n '199.249.230.69': {'city': 'San Angelo',\n                    'country': 'UNITED STATES',\n                    'ip': '199.249.230.69',\n                    'netname': 'QUINTEX230',\n                    'organization': 'Quintex Alliance Consulting',\n                    'postalcode': '76901',\n                    'street': '6732 Goodland Loop'},\n '209.141.34.95': {'city': 'San Jose',\n                   'country': 'US',\n                   'ip': '209.141.34.95',\n                   'netname': 'BUYVM-US-209-141-34-0-24',\n                   'organization': 'BuyVM Services',\n                   'postalcode': '95113',\n                   'street': '55 S. Market Street, Suite 1090'},\n '213.179.54.190': {'city': 'None',\n                    'country': 'NORWAY',\n                    'ip': '213.179.54.190',\n                    'netname': 'WEBONLINE-WEB-1',\n                    'organization': 'WEBONLINE-WEB-1',\n                    'postalcode': 'None',\n                    'street': 'None'},\n '216.151.180.191': {'city': 'Dallas',\n                     'country': 'US',\n                     'ip': '216.151.180.191',\n                     'netname': 'BANDCON',\n                     'organization': 'BandCon',\n                     'postalcode': '75201',\n                     'street': '2021 McKinney Avenue Suite 1100'},\n '217.170.205.107': {'city': 'None',\n                     'country': 'NORWAY',\n                     'ip': '217.170.205.107',\n                     'netname': 'NO-SERVETHEWORLD-SERVER',\n                     'organization': 'NO-SERVETHEWORLD-SERVER',\n                     'postalcode': 'None',\n                     'street': 'Server Network'},\n '5.199.130.188': {'city': 'None',\n                   'country': 'GERMANY',\n                   'ip': '5.199.130.188',\n                   'netname': 'MYLOC-DE-DUS2-DEDICATED',\n                   'organization': 'MYLOC-DE-DUS2-DEDICATED',\n                   'postalcode': 'None',\n                   'street': 'myLoc managed IT AG'},\n '50.35.73.6': {'city': 'Rochester',\n                'country': 'US',\n                'ip': '50.35.73.6',\n                'netname': 'FRONTIER-COMMUNICATIONS',\n                'organization': 'Frontier Communications of America, Inc.',\n                'postalcode': '14614',\n                'street': '95 Fitzhugh St N'},\n '68.184.5.12': {'city': 'Greenwood Village',\n                 'country': 'US',\n                 'ip': '68.184.5.12',\n                 'netname': 'CLNTN-MO-68-184-0',\n                 'organization': 'Charter Communications',\n                 'postalcode': '80111',\n                 'street': '6399 S Fiddlers Green Circle'},\n '89.163.239.216': {'city': 'Duesseldorf',\n                    'country': 'GERMANY',\n                    'ip': '89.163.239.216',\n                    'netname': 'DE-FASTIT-20060217',\n                    'organization': 'myLoc managed IT AG',\n                    'postalcode': '40472',\n                    'street': 'Am Gatherhof 44'}}\n"
    }
   ],
   "source": [
    "import whois\n",
    "import pprint\n",
    "\n",
    "registrants = {}\n",
    "\n",
    "for key in whois.whois.keys():\n",
    "    if 'registrant' in whois.whois[key]['WhoisRecord']['registryData']:\n",
    "        registry_data = whois.whois[key]['WhoisRecord']['registryData']\n",
    "    else:\n",
    "        registry_data = whois.whois[key]['WhoisRecord']['subRecords'][0]\n",
    "\n",
    "    registrants[key] = {\n",
    "        'ip' : key,\n",
    "        'organization' : registry_data['registrant']['organization'],\n",
    "        'netname' : registry_data['customField2Value'],\n",
    "        'street' : registry_data['registrant']['street1'] if 'street1' in registry_data['registrant'] else 'None',\n",
    "        'city' : registry_data['registrant']['city'] if 'city' in registry_data['registrant'] else 'None',\n",
    "        'postalcode' : registry_data['registrant']['postalCode'] if 'postalCode' in registry_data['registrant'] else 'None',\n",
    "        'country' : registry_data['registrant']['country'],\n",
    "    }\n",
    "\n",
    "pprint.pprint(registrants)"
   ]
  },
  {
   "cell_type": "code",
   "execution_count": 8,
   "metadata": {},
   "outputs": [],
   "source": [
    "import pymysql\n",
    "\n",
    "cnx = pymysql.connect(user='dev', password='ax2', host='127.0.0.1', port=3306, db='test')\n",
    "query = 'INSERT INTO whois (ip, city, country, netname, organization, postalcode, street) VALUES (%(ip)s, %(city)s, %(country)s, %(netname)s, %(organization)s, %(postalcode)s, %(street)s)'\n",
    "\n",
    "with cnx.cursor() as cursor:\n",
    "    for registrant in registrants.values():\n",
    "        cursor.execute(query, registrant)\n",
    "\n",
    "cnx.commit()\n",
    "cnx.close()"
   ]
  }
 ]
}