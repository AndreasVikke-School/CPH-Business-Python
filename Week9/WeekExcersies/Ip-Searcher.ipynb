{
 "nbformat": 4,
 "nbformat_minor": 2,
 "metadata": {
  "language_info": {
   "name": "python",
   "codemirror_mode": {
    "name": "ipython",
    "version": 3
   },
   "version": "3.8.2-final"
  },
  "orig_nbformat": 2,
  "file_extension": ".py",
  "mimetype": "text/x-python",
  "name": "python",
  "npconvert_exporter": "python",
  "pygments_lexer": "ipython3",
  "version": 3,
  "kernelspec": {
   "name": "python38264bit48d2bce35d8c4ec583cc640c9b4edc40",
   "display_name": "Python 3.8.2 64-bit"
  }
 },
 "cells": [
  {
   "cell_type": "code",
   "execution_count": 22,
   "metadata": {},
   "outputs": [],
   "source": [
    "import requests\n",
    "import json\n",
    "import re\n",
    "\n",
    "with open('ip-logfile.log', 'r') as fo:\n",
    "    log = fo.read()\n",
    "\n",
    "ip_reg = re.compile(r\";((\\d{2,3}).(\\d{2,3}).(\\d{2,3}).(\\d{2,3}));\")\n",
    "all_ip = set(ip_reg.findall(log))\n",
    "\n",
    "api_url = 'https://www.whoisxmlapi.com/whoisserver/WhoisService?apiKey=at_4yWBY4ApasrNfmPuIBzZupJOYSSrf&outputFormat=JSON&domainName='\n",
    "\n",
    "whois = {ip[0] : requests.get('{}{}'.format(api_url, ip[0])) for ip in all_ip}"
   ]
  },
  {
   "cell_type": "code",
   "execution_count": 20,
   "metadata": {},
   "outputs": [
    {
     "output_type": "stream",
     "name": "stdout",
     "text": "{'157.55.39.40': <Response [200]>, '68.180.231.38': <Response [200]>, '66.249.76.50': <Response [200]>, '207.46.13.43': <Response [200]>, '68.180.230.57': <Response [200]>, '157.55.39.134': <Response [200]>, '157.55.39.191': <Response [200]>, '68.180.228.169': <Response [200]>, '66.249.69.94': <Response [200]>, '207.46.13.44': <Response [200]>, '66.249.67.103': <Response [200]>, '66.249.78.220': <Response [200]>, '157.55.39.147': <Response [200]>, '207.46.13.108': <Response [200]>, '66.249.91.92': <Response [200]>, '68.180.231.32': <Response [200]>, '66.249.78.80': <Response [200]>, '157.55.39.242': <Response [200]>, '68.180.228.115': <Response [200]>, '157.55.39.136': <Response [200]>, '157.55.39.202': <Response [200]>, '68.180.228.45': <Response [200]>, '66.249.64.254': <Response [200]>, '66.249.66.50': <Response [200]>, '68.180.229.228': <Response [200]>, '68.180.229.223': <Response [200]>, '66.249.65.114': <Response [200]>, '68.180.229.39': <Response [200]>, '66.249.64.162': <Response [200]>, '157.55.39.127': <Response [200]>, '68.180.231.50': <Response [200]>, '207.46.13.35': <Response [200]>, '66.249.64.139': <Response [200]>, '40.77.167.31': <Response [200]>, '68.180.228.188': <Response [200]>, '207.46.13.63': <Response [200]>, '157.55.39.43': <Response [200]>, '68.180.230.180': <Response [200]>, '68.180.229.229': <Response [200]>, '68.180.229.51': <Response [200]>, '40.77.167.99': <Response [200]>, '207.46.13.157': <Response [200]>, '157.55.39.33': <Response [200]>, '68.180.228.183': <Response [200]>, '68.180.231.53': <Response [200]>, '68.180.229.88': <Response [200]>, '157.55.39.41': <Response [200]>, '66.249.75.84': <Response [200]>, '157.55.39.235': <Response [200]>, '66.249.67.105': <Response [200]>, '68.180.230.29': <Response [200]>, '207.46.13.49': <Response [200]>, '207.46.13.15': <Response [200]>, '207.46.13.101': <Response [200]>, '66.249.91.100': <Response [200]>, '144.76.182.149': <Response [200]>, '66.249.91.108': <Response [200]>, '68.180.230.108': <Response [200]>, '68.180.229.34': <Response [200]>, '66.249.64.193': <Response [200]>, '40.77.167.101': <Response [200]>, '207.46.13.140': <Response [200]>, '157.55.39.14': <Response [200]>, '68.180.231.62': <Response [200]>, '68.180.228.180': <Response [200]>, '207.46.13.85': <Response [200]>, '68.180.228.112': <Response [200]>, '68.180.230.37': <Response [200]>, '68.180.229.43': <Response [200]>, '157.55.39.29': <Response [200]>, '157.55.39.53': <Response [200]>, '66.249.69.110': <Response [200]>, '68.180.228.217': <Response [200]>, '68.180.228.241': <Response [200]>, '207.46.13.58': <Response [200]>, '207.46.13.28': <Response [200]>, '68.180.229.173': <Response [200]>, '66.249.79.111': <Response [200]>, '207.46.13.126': <Response [200]>}\n{\"WhoisRecord\": {\n  \"domainName\": \"66.249.91.100\",\n  \"parseCode\": 8,\n  \"audit\": {\n    \"createdDate\": \"2020-03-24 10:50:18.000 UTC\",\n    \"updatedDate\": \"2020-03-24 10:50:18.000 UTC\"\n  },\n  \"registrarName\": \"ARIN\",\n  \"registrarIANAID\": \"778\",\n  \"registryData\": {\n    \"createdDate\": \"2004-03-05\",\n    \"updatedDate\": \"2012-02-24\",\n    \"registrant\": {\n      \"organization\": \"Google LLC\",\n      \"street1\": \"1600 Amphitheatre Parkway\",\n      \"city\": \"Mountain View\",\n      \"state\": \"CA\",\n      \"postalCode\": \"94043\",\n      \"country\": \"UNITED STATES\",\n      \"countryCode\": \"US\",\n      \"rawText\": \"OrgName:        Google LLC\\u000aOrgId:          GOGL\\u000aAddress:        1600 Amphitheatre Parkway\\u000aCity:           Mountain View\\u000aStateProv:      CA\\u000aPostalCode:     94043\\u000aCountry:        US\\u000a\"\n    },\n    \"administrativeContact\": {\n      \"organization\": \"Abuse\",\n      \"email\": \"network-abuse@google.com\",\n      \"telephone\": \"16502530000\"\n    },\n    \"technicalContact\": {\n      \"organization\": \"Google LLC\",\n      \"email\": \"arin-contact@google.com\",\n      \"telephone\": \"16502530000\"\n    },\n    \"domainName\": \"66.249.91.100\",\n    \"rawText\": \"#\\u000a# ARIN WHOIS data and services are subject to the Terms of Use\\u000a# available at: https://www.arin.net/resources/registry/whois/tou/\\u000a#\\u000a# If you see inaccuracies in the results, please report at\\u000a# https://www.arin.net/resources/registry/whois/inaccuracy_reporting/\\u000a#\\u000a# Copyright 1997-2020, American Registry for Internet Numbers, Ltd.\\u000a#\\u000a\\u000a\\u000aNetRange:       66.249.64.0 - 66.249.95.255\\u000aCIDR:           66.249.64.0/19\\u000aNetName:        GOOGLE\\u000aNetHandle:      NET-66-249-64-0-1\\u000aParent:         NET66 (NET-66-0-0-0-0)\\u000aNetType:        Direct Allocation\\u000aOriginAS:       \\u000aOrganization:   Google LLC (GOGL)\\u000aRegDate:        2004-03-05\\u000aUpdated:        2012-02-24\\u000aRef:            https://rdap.arin.net/registry/ip/66.249.64.0\\u000a\\u000a\\u000a\\u000aOrgName:        Google LLC\\u000aOrgId:          GOGL\\u000aAddress:        1600 Amphitheatre Parkway\\u000aCity:           Mountain View\\u000aStateProv:      CA\\u000aPostalCode:     94043\\u000aCountry:        US\\u000aRegDate:        2000-03-30\\u000aUpdated:        2019-10-31\\u000aComment:        Please note that the recommended way to file abuse complaints are located in the following links. \\u000aComment:        \\u000aComment:        To report abuse and illegal activity: https://www.google.com/contact/\\u000aComment:        \\u000aComment:        For legal requests: http://support.google.com/legal \\u000aComment:        \\u000aComment:        Regards, \\u000aComment:        The Google Team\\u000aRef:            https://rdap.arin.net/registry/entity/GOGL\\u000a\\u000a\\u000aOrgAbuseHandle: ABUSE5250-ARIN\\u000aOrgAbuseName:   Abuse\\u000aOrgAbusePhone:  +1-650-253-0000 \\u000aOrgAbuseEmail:  network-abuse@google.com\\u000aOrgAbuseRef:    https://rdap.arin.net/registry/entity/ABUSE5250-ARIN\\u000a\\u000aOrgTechHandle: ZG39-ARIN\\u000aOrgTechName:   Google LLC\\u000aOrgTechPhone:  +1-650-253-0000 \\u000aOrgTechEmail:  arin-contact@google.com\\u000aOrgTechRef:    https://rdap.arin.net/registry/entity/ZG39-ARIN\\u000a\\u000a\\u000a#\\u000a# ARIN WHOIS data and services are subject to the Terms of Use\\u000a# available at: https://www.arin.net/resources/registry/whois/tou/\\u000a#\\u000a# If you see inaccuracies in the results, please report at\\u000a# https://www.arin.net/resources/registry/whois/inaccuracy_reporting/\\u000a#\\u000a# Copyright 1997-2020, American Registry for Internet Numbers, Ltd.\\u000a#\",\n    \"parseCode\": 1065,\n    \"header\": \"#\\u000a# ARIN WHOIS data and services are subject to the Terms of Use\\u000a# available at: https://www.arin.net/resources/registry/whois/tou/\\u000a#\\u000a# If you see inaccuracies in the results, please report at\\u000a# https://www.arin.net/resources/registry/whois/inaccuracy_reporting/\\u000a#\\u000a# Copyright 1997-2020, American Registry for Internet Numbers, Ltd.\\u000a#\\u000a\",\n    \"strippedText\": \"NetRange:       66.249.64.0 - 66.249.95.255\\u000aCIDR:           66.249.64.0/19\\u000aNetName:        GOOGLE\\u000aNetHandle:      NET-66-249-64-0-1\\u000aParent:         NET66 (NET-66-0-0-0-0)\\u000aNetType:        Direct Allocation\\u000aOriginAS:\\u000aOrganization:   Google LLC (GOGL)\\u000aRegDate:        2004-03-05\\u000aUpdated:        2012-02-24\\u000aRef:            https://rdap.arin.net/registry/ip/66.249.64.0\\u000aOrgName:        Google LLC\\u000aOrgId:          GOGL\\u000aAddress:        1600 Amphitheatre Parkway\\u000aCity:           Mountain View\\u000aStateProv:      CA\\u000aPostalCode:     94043\\u000aCountry:        US\\u000aRegDate:        2000-03-30\\u000aUpdated:        2019-10-31\\u000aComment:        Please note that the recommended way to file abuse complaints are located in the following links.\\u000aComment:\\u000aComment:        To report abuse and illegal activity: https://www.google.com/contact/\\u000aComment:\\u000aComment:        For legal requests: http://support.google.com/legal\\u000aComment:\\u000aComment:        Regards,\\u000aComment:        The Google Team\\u000aRef:            https://rdap.arin.net/registry/entity/GOGL\\u000aOrgAbuseHandle: ABUSE5250-ARIN\\u000aOrgAbuseName:   Abuse\\u000aOrgAbusePhone:  +1-650-253-0000\\u000aOrgAbuseEmail:  network-abuse@google.com\\u000aOrgAbuseRef:    https://rdap.arin.net/registry/entity/ABUSE5250-ARIN\\u000aOrgTechHandle: ZG39-ARIN\\u000aOrgTechName:   Google LLC\\u000aOrgTechPhone:  +1-650-253-0000\\u000aOrgTechEmail:  arin-contact@google.com\\u000aOrgTechRef:    https://rdap.arin.net/registry/entity/ZG39-ARIN\\u000a#\\u000a# ARIN WHOIS data and services are subject to the Terms of Use\\u000a# available at: https://www.arin.net/resources/registry/whois/tou/\\u000a#\\u000a# If you see inaccuracies in the results, please report at\\u000a# https://www.arin.net/resources/registry/whois/inaccuracy_reporting/\\u000a#\\u000a# Copyright 1997-2020, American Registry for Internet Numbers, Ltd.\\u000a#\\u000a\",\n    \"audit\": {\n      \"createdDate\": \"2020-03-24 10:50:18.000 UTC\",\n      \"updatedDate\": \"2020-03-24 10:50:18.000 UTC\"\n    },\n    \"customField1Name\": \"netRange\",\n    \"customField1Value\": \"66.249.64.0 - 66.249.95.255\",\n    \"registrarName\": \"ARIN\",\n    \"registrarIANAID\": \"778\",\n    \"createdDateNormalized\": \"2004-03-05 00:00:00 UTC\",\n    \"updatedDateNormalized\": \"2012-02-24 00:00:00 UTC\",\n    \"customField2Name\": \"netName\",\n    \"customField2Value\": \"GOOGLE\"\n  },\n  \"contactEmail\": \"network-abuse@google.com\",\n  \"estimatedDomainAge\": 5863\n}}\n"
    }
   ],
   "source": [
    "# print(whois)\n",
    "\n",
    "\n",
    "u = 'https://www.whoisxmlapi.com/whoisserver/WhoisService?apiKey=at_4yWBY4ApasrNfmPuIBzZupJOYSSrf&outputFormat=JSON&domainName=66.249.91.100'\n",
    "print(requests.get(u).text)"
   ]
  }
 ]
}