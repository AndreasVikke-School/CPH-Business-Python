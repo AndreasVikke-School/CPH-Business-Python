{
 "nbformat": 4,
 "nbformat_minor": 2,
 "metadata": {
  "language_info": {
   "name": "python",
   "codemirror_mode": {
    "name": "ipython",
    "version": 3
   },
   "version": "3.7.6-final"
  },
  "orig_nbformat": 2,
  "file_extension": ".py",
  "mimetype": "text/x-python",
  "name": "python",
  "npconvert_exporter": "python",
  "pygments_lexer": "ipython3",
  "version": 3,
  "kernelspec": {
   "name": "python37464bitbasecondaef21268569924163a6a9fb3f2354d57b",
   "display_name": "Python 3.7.4 64-bit ('base': conda)"
  }
 },
 "cells": [
  {
   "cell_type": "code",
   "execution_count": 12,
   "metadata": {},
   "outputs": [
    {
     "output_type": "execute_result",
     "data": {
      "text/plain": "'twitter_combined.txt.gz'"
     },
     "metadata": {},
     "execution_count": 12
    }
   ],
   "source": [
    "import wget\n",
    "\n",
    "wget.download('https://snap.stanford.edu/data/twitter_combined.txt.gz')"
   ]
  },
  {
   "cell_type": "code",
   "execution_count": 15,
   "metadata": {},
   "outputs": [],
   "source": [
    "import networkx as nx\n",
    "g = nx.read_edgelist('twitter_combined.txt')\n",
    ""
   ]
  },
  {
   "cell_type": "code",
   "execution_count": 75,
   "metadata": {},
   "outputs": [
    {
     "output_type": "stream",
     "name": "stdout",
     "text": "The node 115485051 has the most connections with 3383 connections\n"
    }
   ],
   "source": [
    "import numpy as np\n",
    "\n",
    "deg_vec = np.array([g.degree(n) for n in g.nodes()])\n",
    "max_ind_deg = deg_vec.max()\n",
    "index_name = list(g.nodes())[np.argmax(in_deg_vec)]\n",
    "\n",
    "print('The node {} has the most connections with {} connections'.format(index_name, len(list(g.neighbors(index_name)))))"
   ]
  }
 ]
}