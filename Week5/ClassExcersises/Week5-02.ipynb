{
 "nbformat": 4,
 "nbformat_minor": 2,
 "metadata": {
  "language_info": {
   "name": "python",
   "codemirror_mode": {
    "name": "ipython",
    "version": 3
   },
   "version": "3.7.4-final"
  },
  "orig_nbformat": 2,
  "file_extension": ".py",
  "mimetype": "text/x-python",
  "name": "python",
  "npconvert_exporter": "python",
  "pygments_lexer": "ipython3",
  "version": 3,
  "kernelspec": {
   "name": "python37464bitbasecondaf247f88ea4b24287860678040d31b5ad",
   "display_name": "Python 3.7.4 64-bit ('base': conda)"
  }
 },
 "cells": [
  {
   "cell_type": "code",
   "execution_count": 4,
   "metadata": {},
   "outputs": [
    {
     "name": "stdout",
     "output_type": "stream",
     "text": "AAR  BYDEL  ALDER  STATKODE  PERSONER\n0       2015      1      0      5100       614\n1       2015      1      0      5104         2\n2       2015      1      0      5106         1\n3       2015      1      0      5110         1\n4       2015      1      0      5120         4\n...      ...    ...    ...       ...       ...\n542512  1992     99     81      5100         1\n542513  1992     99     87      5100         2\n542514  1992     99     89      5100         1\n542515  1992     99     90      5180         1\n542516  1992     99     93      5100         1\n\n[542517 rows x 5 columns]\n"
    }
   ],
   "source": [
    "import pandas as pd\n",
    "\n",
    "bef = pd.read_csv(\"befkbhalderstatkode.csv\")\n",
    "\n",
    "print(bef)"
   ]
  }
 ]
}